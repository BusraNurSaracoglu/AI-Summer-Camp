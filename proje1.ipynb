{
  "nbformat": 4,
  "nbformat_minor": 0,
  "metadata": {
    "colab": {
      "name": "proje1",
      "provenance": [],
      "collapsed_sections": []
    },
    "kernelspec": {
      "name": "python3",
      "display_name": "Python 3"
    },
    "language_info": {
      "name": "python"
    }
  },
  "cells": [
    {
      "cell_type": "code",
      "source": [
        "! pip install kaggle"
      ],
      "metadata": {
        "colab": {
          "base_uri": "https://localhost:8080/"
        },
        "id": "LgKzqMGTosmn",
        "outputId": "e3277e71-b280-4ea2-813d-45e19633973d"
      },
      "execution_count": 2,
      "outputs": [
        {
          "output_type": "stream",
          "name": "stdout",
          "text": [
            "Looking in indexes: https://pypi.org/simple, https://us-python.pkg.dev/colab-wheels/public/simple/\n",
            "Requirement already satisfied: kaggle in /usr/local/lib/python3.7/dist-packages (1.5.12)\n",
            "Requirement already satisfied: certifi in /usr/local/lib/python3.7/dist-packages (from kaggle) (2022.6.15)\n",
            "Requirement already satisfied: tqdm in /usr/local/lib/python3.7/dist-packages (from kaggle) (4.64.0)\n",
            "Requirement already satisfied: python-dateutil in /usr/local/lib/python3.7/dist-packages (from kaggle) (2.8.2)\n",
            "Requirement already satisfied: urllib3 in /usr/local/lib/python3.7/dist-packages (from kaggle) (1.24.3)\n",
            "Requirement already satisfied: requests in /usr/local/lib/python3.7/dist-packages (from kaggle) (2.23.0)\n",
            "Requirement already satisfied: six>=1.10 in /usr/local/lib/python3.7/dist-packages (from kaggle) (1.15.0)\n",
            "Requirement already satisfied: python-slugify in /usr/local/lib/python3.7/dist-packages (from kaggle) (6.1.2)\n",
            "Requirement already satisfied: text-unidecode>=1.3 in /usr/local/lib/python3.7/dist-packages (from python-slugify->kaggle) (1.3)\n",
            "Requirement already satisfied: idna<3,>=2.5 in /usr/local/lib/python3.7/dist-packages (from requests->kaggle) (2.10)\n",
            "Requirement already satisfied: chardet<4,>=3.0.2 in /usr/local/lib/python3.7/dist-packages (from requests->kaggle) (3.0.4)\n"
          ]
        }
      ]
    },
    {
      "cell_type": "code",
      "source": [
        "! mkdir ~/.kaggle\n"
      ],
      "metadata": {
        "id": "tK41QBKYpB44"
      },
      "execution_count": 3,
      "outputs": []
    },
    {
      "cell_type": "code",
      "source": [
        "! cp kaggle.json ~/.kaggle/"
      ],
      "metadata": {
        "colab": {
          "base_uri": "https://localhost:8080/"
        },
        "id": "kp6tal_jpGXW",
        "outputId": "3c4162d6-c600-42f6-d487-d1a8bf698abd"
      },
      "execution_count": 4,
      "outputs": [
        {
          "output_type": "stream",
          "name": "stdout",
          "text": [
            "cp: cannot stat 'kaggle.json': No such file or directory\n"
          ]
        }
      ]
    },
    {
      "cell_type": "code",
      "source": [
        "! chmod 600 ~/.kaggle/kaggle.json"
      ],
      "metadata": {
        "colab": {
          "base_uri": "https://localhost:8080/"
        },
        "id": "eY9cCLdXpIYR",
        "outputId": "33d52fab-a6a2-4523-9c95-ec54f5ce1f66"
      },
      "execution_count": 5,
      "outputs": [
        {
          "output_type": "stream",
          "name": "stdout",
          "text": [
            "chmod: cannot access '/root/.kaggle/kaggle.json': No such file or directory\n"
          ]
        }
      ]
    },
    {
      "cell_type": "code",
      "source": [
        "! kaggle datasets download -d mirichoi0218/insurance"
      ],
      "metadata": {
        "colab": {
          "base_uri": "https://localhost:8080/"
        },
        "id": "MnR3C2MDpK2E",
        "outputId": "477a5c30-fcde-4b9a-d0ca-b839ba25d006"
      },
      "execution_count": 6,
      "outputs": [
        {
          "output_type": "stream",
          "name": "stdout",
          "text": [
            "Traceback (most recent call last):\n",
            "  File \"/usr/local/bin/kaggle\", line 5, in <module>\n",
            "    from kaggle.cli import main\n",
            "  File \"/usr/local/lib/python3.7/dist-packages/kaggle/__init__.py\", line 23, in <module>\n",
            "    api.authenticate()\n",
            "  File \"/usr/local/lib/python3.7/dist-packages/kaggle/api/kaggle_api_extended.py\", line 166, in authenticate\n",
            "    self.config_file, self.config_dir))\n",
            "OSError: Could not find kaggle.json. Make sure it's located in /root/.kaggle. Or use the environment method.\n"
          ]
        }
      ]
    },
    {
      "cell_type": "code",
      "source": [
        "! kaggle datasets download <insurance.zip>"
      ],
      "metadata": {
        "colab": {
          "base_uri": "https://localhost:8080/"
        },
        "id": "sb20Y4sapOPY",
        "outputId": "c3876636-a513-4bf5-f3fe-35711a6acfb2"
      },
      "execution_count": 7,
      "outputs": [
        {
          "output_type": "stream",
          "name": "stdout",
          "text": [
            "/bin/bash: -c: line 0: syntax error near unexpected token `newline'\n",
            "/bin/bash: -c: line 0: ` kaggle datasets download <insurance.zip>'\n"
          ]
        }
      ]
    },
    {
      "cell_type": "code",
      "source": [
        "! unzip archive.zip"
      ],
      "metadata": {
        "colab": {
          "base_uri": "https://localhost:8080/"
        },
        "id": "feiB9i7DpXYt",
        "outputId": "79a77334-1b83-428a-be4f-2bd19e752c3c"
      },
      "execution_count": 11,
      "outputs": [
        {
          "output_type": "stream",
          "name": "stdout",
          "text": [
            "Archive:  archive.zip\n",
            "  inflating: insurance.csv           \n"
          ]
        }
      ]
    },
    {
      "cell_type": "code",
      "source": [
        "import pandas as pds\n",
        "  \n",
        "# reading the XLSX file\n",
        "file =('insurance.csv')\n",
        "df = pds.read_csv(file)\n",
        "  \n",
        "# displaying the contents of the XLSX file\n",
        "df.head()"
      ],
      "metadata": {
        "colab": {
          "base_uri": "https://localhost:8080/",
          "height": 206
        },
        "id": "Wtudsf2cpe4q",
        "outputId": "d0e55011-e7bf-41b9-a2aa-4ec4a1857c22"
      },
      "execution_count": 13,
      "outputs": [
        {
          "output_type": "execute_result",
          "data": {
            "text/plain": [
              "   age     sex     bmi  children smoker     region      charges\n",
              "0   19  female  27.900         0    yes  southwest  16884.92400\n",
              "1   18    male  33.770         1     no  southeast   1725.55230\n",
              "2   28    male  33.000         3     no  southeast   4449.46200\n",
              "3   33    male  22.705         0     no  northwest  21984.47061\n",
              "4   32    male  28.880         0     no  northwest   3866.85520"
            ],
            "text/html": [
              "\n",
              "  <div id=\"df-32928a66-4d63-40a2-ad68-0ebf2292ecd6\">\n",
              "    <div class=\"colab-df-container\">\n",
              "      <div>\n",
              "<style scoped>\n",
              "    .dataframe tbody tr th:only-of-type {\n",
              "        vertical-align: middle;\n",
              "    }\n",
              "\n",
              "    .dataframe tbody tr th {\n",
              "        vertical-align: top;\n",
              "    }\n",
              "\n",
              "    .dataframe thead th {\n",
              "        text-align: right;\n",
              "    }\n",
              "</style>\n",
              "<table border=\"1\" class=\"dataframe\">\n",
              "  <thead>\n",
              "    <tr style=\"text-align: right;\">\n",
              "      <th></th>\n",
              "      <th>age</th>\n",
              "      <th>sex</th>\n",
              "      <th>bmi</th>\n",
              "      <th>children</th>\n",
              "      <th>smoker</th>\n",
              "      <th>region</th>\n",
              "      <th>charges</th>\n",
              "    </tr>\n",
              "  </thead>\n",
              "  <tbody>\n",
              "    <tr>\n",
              "      <th>0</th>\n",
              "      <td>19</td>\n",
              "      <td>female</td>\n",
              "      <td>27.900</td>\n",
              "      <td>0</td>\n",
              "      <td>yes</td>\n",
              "      <td>southwest</td>\n",
              "      <td>16884.92400</td>\n",
              "    </tr>\n",
              "    <tr>\n",
              "      <th>1</th>\n",
              "      <td>18</td>\n",
              "      <td>male</td>\n",
              "      <td>33.770</td>\n",
              "      <td>1</td>\n",
              "      <td>no</td>\n",
              "      <td>southeast</td>\n",
              "      <td>1725.55230</td>\n",
              "    </tr>\n",
              "    <tr>\n",
              "      <th>2</th>\n",
              "      <td>28</td>\n",
              "      <td>male</td>\n",
              "      <td>33.000</td>\n",
              "      <td>3</td>\n",
              "      <td>no</td>\n",
              "      <td>southeast</td>\n",
              "      <td>4449.46200</td>\n",
              "    </tr>\n",
              "    <tr>\n",
              "      <th>3</th>\n",
              "      <td>33</td>\n",
              "      <td>male</td>\n",
              "      <td>22.705</td>\n",
              "      <td>0</td>\n",
              "      <td>no</td>\n",
              "      <td>northwest</td>\n",
              "      <td>21984.47061</td>\n",
              "    </tr>\n",
              "    <tr>\n",
              "      <th>4</th>\n",
              "      <td>32</td>\n",
              "      <td>male</td>\n",
              "      <td>28.880</td>\n",
              "      <td>0</td>\n",
              "      <td>no</td>\n",
              "      <td>northwest</td>\n",
              "      <td>3866.85520</td>\n",
              "    </tr>\n",
              "  </tbody>\n",
              "</table>\n",
              "</div>\n",
              "      <button class=\"colab-df-convert\" onclick=\"convertToInteractive('df-32928a66-4d63-40a2-ad68-0ebf2292ecd6')\"\n",
              "              title=\"Convert this dataframe to an interactive table.\"\n",
              "              style=\"display:none;\">\n",
              "        \n",
              "  <svg xmlns=\"http://www.w3.org/2000/svg\" height=\"24px\"viewBox=\"0 0 24 24\"\n",
              "       width=\"24px\">\n",
              "    <path d=\"M0 0h24v24H0V0z\" fill=\"none\"/>\n",
              "    <path d=\"M18.56 5.44l.94 2.06.94-2.06 2.06-.94-2.06-.94-.94-2.06-.94 2.06-2.06.94zm-11 1L8.5 8.5l.94-2.06 2.06-.94-2.06-.94L8.5 2.5l-.94 2.06-2.06.94zm10 10l.94 2.06.94-2.06 2.06-.94-2.06-.94-.94-2.06-.94 2.06-2.06.94z\"/><path d=\"M17.41 7.96l-1.37-1.37c-.4-.4-.92-.59-1.43-.59-.52 0-1.04.2-1.43.59L10.3 9.45l-7.72 7.72c-.78.78-.78 2.05 0 2.83L4 21.41c.39.39.9.59 1.41.59.51 0 1.02-.2 1.41-.59l7.78-7.78 2.81-2.81c.8-.78.8-2.07 0-2.86zM5.41 20L4 18.59l7.72-7.72 1.47 1.35L5.41 20z\"/>\n",
              "  </svg>\n",
              "      </button>\n",
              "      \n",
              "  <style>\n",
              "    .colab-df-container {\n",
              "      display:flex;\n",
              "      flex-wrap:wrap;\n",
              "      gap: 12px;\n",
              "    }\n",
              "\n",
              "    .colab-df-convert {\n",
              "      background-color: #E8F0FE;\n",
              "      border: none;\n",
              "      border-radius: 50%;\n",
              "      cursor: pointer;\n",
              "      display: none;\n",
              "      fill: #1967D2;\n",
              "      height: 32px;\n",
              "      padding: 0 0 0 0;\n",
              "      width: 32px;\n",
              "    }\n",
              "\n",
              "    .colab-df-convert:hover {\n",
              "      background-color: #E2EBFA;\n",
              "      box-shadow: 0px 1px 2px rgba(60, 64, 67, 0.3), 0px 1px 3px 1px rgba(60, 64, 67, 0.15);\n",
              "      fill: #174EA6;\n",
              "    }\n",
              "\n",
              "    [theme=dark] .colab-df-convert {\n",
              "      background-color: #3B4455;\n",
              "      fill: #D2E3FC;\n",
              "    }\n",
              "\n",
              "    [theme=dark] .colab-df-convert:hover {\n",
              "      background-color: #434B5C;\n",
              "      box-shadow: 0px 1px 3px 1px rgba(0, 0, 0, 0.15);\n",
              "      filter: drop-shadow(0px 1px 2px rgba(0, 0, 0, 0.3));\n",
              "      fill: #FFFFFF;\n",
              "    }\n",
              "  </style>\n",
              "\n",
              "      <script>\n",
              "        const buttonEl =\n",
              "          document.querySelector('#df-32928a66-4d63-40a2-ad68-0ebf2292ecd6 button.colab-df-convert');\n",
              "        buttonEl.style.display =\n",
              "          google.colab.kernel.accessAllowed ? 'block' : 'none';\n",
              "\n",
              "        async function convertToInteractive(key) {\n",
              "          const element = document.querySelector('#df-32928a66-4d63-40a2-ad68-0ebf2292ecd6');\n",
              "          const dataTable =\n",
              "            await google.colab.kernel.invokeFunction('convertToInteractive',\n",
              "                                                     [key], {});\n",
              "          if (!dataTable) return;\n",
              "\n",
              "          const docLinkHtml = 'Like what you see? Visit the ' +\n",
              "            '<a target=\"_blank\" href=https://colab.research.google.com/notebooks/data_table.ipynb>data table notebook</a>'\n",
              "            + ' to learn more about interactive tables.';\n",
              "          element.innerHTML = '';\n",
              "          dataTable['output_type'] = 'display_data';\n",
              "          await google.colab.output.renderOutput(dataTable, element);\n",
              "          const docLink = document.createElement('div');\n",
              "          docLink.innerHTML = docLinkHtml;\n",
              "          element.appendChild(docLink);\n",
              "        }\n",
              "      </script>\n",
              "    </div>\n",
              "  </div>\n",
              "  "
            ]
          },
          "metadata": {},
          "execution_count": 13
        }
      ]
    },
    {
      "cell_type": "code",
      "source": [
        "import pandas as pd\n",
        "import numpy as np\n",
        "import seaborn as sns\n",
        "import matplotlib.pyplot as plt\n",
        "import sklearn as sk"
      ],
      "metadata": {
        "id": "Qsb7mfQvqYQJ"
      },
      "execution_count": 14,
      "outputs": []
    },
    {
      "cell_type": "code",
      "source": [
        "df.columns"
      ],
      "metadata": {
        "id": "T5YpzVgPq9JR",
        "colab": {
          "base_uri": "https://localhost:8080/"
        },
        "outputId": "9f8241fd-cdfa-43c6-aa1a-24ddb160dc0a"
      },
      "execution_count": 15,
      "outputs": [
        {
          "output_type": "execute_result",
          "data": {
            "text/plain": [
              "Index(['age', 'sex', 'bmi', 'children', 'smoker', 'region', 'charges'], dtype='object')"
            ]
          },
          "metadata": {},
          "execution_count": 15
        }
      ]
    },
    {
      "cell_type": "code",
      "source": [
        "df.info()"
      ],
      "metadata": {
        "id": "W6Z3ZFWsrDNR",
        "colab": {
          "base_uri": "https://localhost:8080/"
        },
        "outputId": "83935f11-206e-4537-9219-c2b5109d217b"
      },
      "execution_count": 16,
      "outputs": [
        {
          "output_type": "stream",
          "name": "stdout",
          "text": [
            "<class 'pandas.core.frame.DataFrame'>\n",
            "RangeIndex: 1338 entries, 0 to 1337\n",
            "Data columns (total 7 columns):\n",
            " #   Column    Non-Null Count  Dtype  \n",
            "---  ------    --------------  -----  \n",
            " 0   age       1338 non-null   int64  \n",
            " 1   sex       1338 non-null   object \n",
            " 2   bmi       1338 non-null   float64\n",
            " 3   children  1338 non-null   int64  \n",
            " 4   smoker    1338 non-null   object \n",
            " 5   region    1338 non-null   object \n",
            " 6   charges   1338 non-null   float64\n",
            "dtypes: float64(2), int64(2), object(3)\n",
            "memory usage: 73.3+ KB\n"
          ]
        }
      ]
    },
    {
      "cell_type": "markdown",
      "source": [
        "**FONKSİYONLARIM**"
      ],
      "metadata": {
        "id": "iG8Akt_d1Bye"
      }
    },
    {
      "cell_type": "code",
      "source": [
        "def dummies(df,col):\n",
        "    dummy = pd.get_dummies(df, columns = [col])\n",
        "    return dummy\n",
        "\n",
        "    \"\"\"****************************************************************************************************************************************\n",
        "@brief               : Hata tahminlerinin hesaplanmasını sağlayan fonksiyondur.\n",
        "@input   testy       : Olması gereken sonuç değerleri.\n",
        "@input   yhat        : Tahmin edilen sonuç değerleri.\n",
        "@output  mae_model   : Ortalama Mutlak Hata\n",
        "@output  mse_model   : Ortalama Kare Hata \n",
        "@output  rmse_model  : Kök Ortalama Kare Hata \n",
        "\"\"\"\n",
        "\n",
        "\n",
        "def errors(testy,yhat):\n",
        "    mae_model = mean_absolute_error(testy,yhat)\n",
        "    mse_model = mean_squared_error(testy,yhat)\n",
        "    rmse_model = np.sqrt(mse_model)\n",
        "    \n",
        "    return print(\"mae:\", mae_model  ,\"\\nmse:\", mse_model, \"\\nrmse:\",rmse_model)\n",
        "    \n",
        "\n",
        "\"\"\"****************************************************************************************************************************************\n",
        "@brief              : r2 değerini hesaplayan fonksiyondur.\n",
        "@input   testyvalue : Olması gereken y değerleri.\n",
        "@input   yhat       : Tahmin edilen olan y değerleri.\n",
        "@output  r2_value   : r2 oranı.\n",
        "\"\"\"\n",
        "\n",
        "def r2(testyvalues, yhat):\n",
        "    r2_value = r2_score(testyvalues,yhat)\n",
        "    return r2_value"
      ],
      "metadata": {
        "id": "NQLl0Rtf1BVu"
      },
      "execution_count": 17,
      "outputs": []
    },
    {
      "cell_type": "markdown",
      "source": [
        "**EKSİK VERİLERİN İNCELENMESİ** "
      ],
      "metadata": {
        "id": "pUDoIFcnrw16"
      }
    },
    {
      "cell_type": "code",
      "source": [
        "# Veri setinde eksik bir veri var mı bunun incelemesi yapılıyor.\n",
        "missing_values = df.isna().sum()\n",
        "print(missing_values)"
      ],
      "metadata": {
        "id": "nXpDM_Rmrczx",
        "colab": {
          "base_uri": "https://localhost:8080/"
        },
        "outputId": "e83e5d36-4dda-4206-8345-75e6cbdd922b"
      },
      "execution_count": 18,
      "outputs": [
        {
          "output_type": "stream",
          "name": "stdout",
          "text": [
            "age         0\n",
            "sex         0\n",
            "bmi         0\n",
            "children    0\n",
            "smoker      0\n",
            "region      0\n",
            "charges     0\n",
            "dtype: int64\n"
          ]
        }
      ]
    },
    {
      "cell_type": "markdown",
      "source": [
        "**BMİ - VÜCUT KÜTLE ENDEKSİNİN İNCELENMESİ**"
      ],
      "metadata": {
        "id": "7UY1FVW-rwXv"
      }
    },
    {
      "cell_type": "code",
      "source": [
        "#bmi değerleri sayılıyor.\n",
        "df.bmi.value_counts()"
      ],
      "metadata": {
        "id": "ONNmxPigrjQc",
        "colab": {
          "base_uri": "https://localhost:8080/"
        },
        "outputId": "eb979d9d-bd71-4f8d-de79-5e2048a7e87a"
      },
      "execution_count": 19,
      "outputs": [
        {
          "output_type": "execute_result",
          "data": {
            "text/plain": [
              "32.300    13\n",
              "28.310     9\n",
              "30.495     8\n",
              "30.875     8\n",
              "31.350     8\n",
              "          ..\n",
              "46.200     1\n",
              "23.800     1\n",
              "44.770     1\n",
              "32.120     1\n",
              "30.970     1\n",
              "Name: bmi, Length: 548, dtype: int64"
            ]
          },
          "metadata": {},
          "execution_count": 19
        }
      ]
    },
    {
      "cell_type": "code",
      "source": [
        "# Histogram grafiğinde bmi değerlerinin dağılımı gösteriliyor.\n",
        "sns.displot(df[\"bmi\"], kde = False )"
      ],
      "metadata": {
        "id": "w8mpVu-5rpr1",
        "colab": {
          "base_uri": "https://localhost:8080/",
          "height": 386
        },
        "outputId": "3367b4b5-97fa-426f-bb88-b9da3deee86c"
      },
      "execution_count": 20,
      "outputs": [
        {
          "output_type": "execute_result",
          "data": {
            "text/plain": [
              "<seaborn.axisgrid.FacetGrid at 0x7fda7ca890d0>"
            ]
          },
          "metadata": {},
          "execution_count": 20
        },
        {
          "output_type": "display_data",
          "data": {
            "text/plain": [
              "<Figure size 360x360 with 1 Axes>"
            ],
            "image/png": "[encoded data removed]"
          },
          "metadata": {
            "needs_background": "light"
          }
        }
      ]
    },
    {
      "cell_type": "markdown",
      "source": [
        "**“smoker” ile “charges” arasındaki ilişki**\n",
        "\n",
        "\n"
      ],
      "metadata": {
        "id": "8o4m0YOdugZd"
      }
    },
    {
      "cell_type": "code",
      "source": [
        "sns.factorplot(x=\"smoker\",y=\"charges\",data=df,kind=\"bar\",size=5,aspect=1.5)"
      ],
      "metadata": {
        "id": "s2g39U4esNaL",
        "colab": {
          "base_uri": "https://localhost:8080/",
          "height": 476
        },
        "outputId": "b3d46327-d8bb-4a93-ecfe-b02d3b022838"
      },
      "execution_count": 21,
      "outputs": [
        {
          "output_type": "stream",
          "name": "stderr",
          "text": [
            "/usr/local/lib/python3.7/dist-packages/seaborn/categorical.py:3717: UserWarning: The `factorplot` function has been renamed to `catplot`. The original name will be removed in a future release. Please update your code. Note that the default `kind` in `factorplot` (`'point'`) has changed `'strip'` in `catplot`.\n",
            "  warnings.warn(msg)\n",
            "/usr/local/lib/python3.7/dist-packages/seaborn/categorical.py:3723: UserWarning: The `size` parameter has been renamed to `height`; please update your code.\n",
            "  warnings.warn(msg, UserWarning)\n"
          ]
        },
        {
          "output_type": "execute_result",
          "data": {
            "text/plain": [
              "<seaborn.axisgrid.FacetGrid at 0x7fda7c0c5b10>"
            ]
          },
          "metadata": {},
          "execution_count": 21
        },
        {
          "output_type": "display_data",
          "data": {
            "text/plain": [
              "<Figure size 540x360 with 1 Axes>"
            ],
            "image/png": "[encoded data removed]"
          },
          "metadata": {
            "needs_background": "light"
          }
        }
      ]
    },
    {
      "cell_type": "markdown",
      "source": [
        "*Sigara kullanan insanların, sigara kullanmayanlara göre daha fazla tıbbi masraf harcadığı açıkca görülebiliyor.*"
      ],
      "metadata": {
        "id": "S6qRLHg8MSXG"
      }
    },
    {
      "cell_type": "markdown",
      "source": [
        " **“smoker” (Sigara tüketen) ile “region”(Bölge) arasındaki ilişki**"
      ],
      "metadata": {
        "id": "-BX0HKQYv0sT"
      }
    },
    {
      "cell_type": "code",
      "source": [
        "sns.countplot(x=\"region\",data=df, hue=\"smoker\")"
      ],
      "metadata": {
        "id": "HFFzeSBe1tFm",
        "colab": {
          "base_uri": "https://localhost:8080/",
          "height": 296
        },
        "outputId": "202ed3ab-4840-4523-fd25-f7dbe53a7278"
      },
      "execution_count": 22,
      "outputs": [
        {
          "output_type": "execute_result",
          "data": {
            "text/plain": [
              "<matplotlib.axes._subplots.AxesSubplot at 0x7fda79292e50>"
            ]
          },
          "metadata": {},
          "execution_count": 22
        },
        {
          "output_type": "display_data",
          "data": {
            "text/plain": [
              "<Figure size 432x288 with 1 Axes>"
            ],
            "image/png": "[encoded data removed]"
          },
          "metadata": {
            "needs_background": "light"
          }
        }
      ]
    },
    {
      "cell_type": "markdown",
      "source": [
        "*Bölgeler arasında sigara kullanan ve kullanmayan insan sayısını görebiliriz. En yüksek sigara kullanım oranı güneydoğu bölgesidir.*"
      ],
      "metadata": {
        "id": "N2Bi-mNfMkWT"
      }
    },
    {
      "cell_type": "markdown",
      "source": [
        "**bmi” ile “sex”(Cinsiyet) arasındaki ilişki**"
      ],
      "metadata": {
        "id": "pc8ForFP19jG"
      }
    },
    {
      "cell_type": "code",
      "source": [
        "sns.factorplot(y=\"bmi\",x=\"sex\",data=df,kind=\"bar\",size=5,aspect=1.5)"
      ],
      "metadata": {
        "id": "L81vB6HM2CS2",
        "colab": {
          "base_uri": "https://localhost:8080/",
          "height": 476
        },
        "outputId": "abc49525-ca84-43a9-9248-f6d910fb0108"
      },
      "execution_count": 23,
      "outputs": [
        {
          "output_type": "stream",
          "name": "stderr",
          "text": [
            "/usr/local/lib/python3.7/dist-packages/seaborn/categorical.py:3717: UserWarning: The `factorplot` function has been renamed to `catplot`. The original name will be removed in a future release. Please update your code. Note that the default `kind` in `factorplot` (`'point'`) has changed `'strip'` in `catplot`.\n",
            "  warnings.warn(msg)\n",
            "/usr/local/lib/python3.7/dist-packages/seaborn/categorical.py:3723: UserWarning: The `size` parameter has been renamed to `height`; please update your code.\n",
            "  warnings.warn(msg, UserWarning)\n"
          ]
        },
        {
          "output_type": "execute_result",
          "data": {
            "text/plain": [
              "<seaborn.axisgrid.FacetGrid at 0x7fda7c0c5190>"
            ]
          },
          "metadata": {},
          "execution_count": 23
        },
        {
          "output_type": "display_data",
          "data": {
            "text/plain": [
              "<Figure size 540x360 with 1 Axes>"
            ],
            "image/png": "[encoded data removed]"
          },
          "metadata": {
            "needs_background": "light"
          }
        }
      ]
    },
    {
      "cell_type": "markdown",
      "source": [
        "*Vucüt kitle indexi ve cinsiyet arasındaki ilişkiyi inceliyoruz.*"
      ],
      "metadata": {
        "id": "b6esmm-dM6NT"
      }
    },
    {
      "cell_type": "markdown",
      "source": [
        "**En çok “children”’a sahip “region”’ı bulunuz**"
      ],
      "metadata": {
        "id": "PbJIC0DI2Rd8"
      }
    },
    {
      "cell_type": "code",
      "source": [
        "sns.countplot(x=\"children\",data=df, hue=\"region\", palette=\"Set3\")"
      ],
      "metadata": {
        "id": "0XLabJbJ2D8e",
        "colab": {
          "base_uri": "https://localhost:8080/",
          "height": 296
        },
        "outputId": "b66f9d0a-4558-436b-d13f-dbe1cc46b469"
      },
      "execution_count": 24,
      "outputs": [
        {
          "output_type": "execute_result",
          "data": {
            "text/plain": [
              "<matplotlib.axes._subplots.AxesSubplot at 0x7fda79806c10>"
            ]
          },
          "metadata": {},
          "execution_count": 24
        },
        {
          "output_type": "display_data",
          "data": {
            "text/plain": [
              "<Figure size 432x288 with 1 Axes>"
            ],
            "image/png": "[encoded data removed]"
          },
          "metadata": {
            "needs_background": "light"
          }
        }
      ]
    },
    {
      "cell_type": "code",
      "source": [
        "df.groupby(\"region\").sum()"
      ],
      "metadata": {
        "colab": {
          "base_uri": "https://localhost:8080/",
          "height": 206
        },
        "id": "ZN_oHySdScan",
        "outputId": "bcf0d181-19dd-498e-e5c8-60ed6503bf83"
      },
      "execution_count": 25,
      "outputs": [
        {
          "output_type": "execute_result",
          "data": {
            "text/plain": [
              "             age        bmi  children       charges\n",
              "region                                             \n",
              "northeast  12723   9452.215       339  4.343669e+06\n",
              "northwest  12739   9489.930       373  4.035712e+06\n",
              "southeast  14174  12141.580       382  5.363690e+06\n",
              "southwest  12823   9943.900       371  4.012755e+06"
            ],
            "text/html": [
              "\n",
              "  <div id=\"df-8bc08ed5-2fa4-4414-8b11-8870da5bcc24\">\n",
              "    <div class=\"colab-df-container\">\n",
              "      <div>\n",
              "<style scoped>\n",
              "    .dataframe tbody tr th:only-of-type {\n",
              "        vertical-align: middle;\n",
              "    }\n",
              "\n",
              "    .dataframe tbody tr th {\n",
              "        vertical-align: top;\n",
              "    }\n",
              "\n",
              "    .dataframe thead th {\n",
              "        text-align: right;\n",
              "    }\n",
              "</style>\n",
              "<table border=\"1\" class=\"dataframe\">\n",
              "  <thead>\n",
              "    <tr style=\"text-align: right;\">\n",
              "      <th></th>\n",
              "      <th>age</th>\n",
              "      <th>bmi</th>\n",
              "      <th>children</th>\n",
              "      <th>charges</th>\n",
              "    </tr>\n",
              "    <tr>\n",
              "      <th>region</th>\n",
              "      <th></th>\n",
              "      <th></th>\n",
              "      <th></th>\n",
              "      <th></th>\n",
              "    </tr>\n",
              "  </thead>\n",
              "  <tbody>\n",
              "    <tr>\n",
              "      <th>northeast</th>\n",
              "      <td>12723</td>\n",
              "      <td>9452.215</td>\n",
              "      <td>339</td>\n",
              "      <td>4.343669e+06</td>\n",
              "    </tr>\n",
              "    <tr>\n",
              "      <th>northwest</th>\n",
              "      <td>12739</td>\n",
              "      <td>9489.930</td>\n",
              "      <td>373</td>\n",
              "      <td>4.035712e+06</td>\n",
              "    </tr>\n",
              "    <tr>\n",
              "      <th>southeast</th>\n",
              "      <td>14174</td>\n",
              "      <td>12141.580</td>\n",
              "      <td>382</td>\n",
              "      <td>5.363690e+06</td>\n",
              "    </tr>\n",
              "    <tr>\n",
              "      <th>southwest</th>\n",
              "      <td>12823</td>\n",
              "      <td>9943.900</td>\n",
              "      <td>371</td>\n",
              "      <td>4.012755e+06</td>\n",
              "    </tr>\n",
              "  </tbody>\n",
              "</table>\n",
              "</div>\n",
              "      <button class=\"colab-df-convert\" onclick=\"convertToInteractive('df-8bc08ed5-2fa4-4414-8b11-8870da5bcc24')\"\n",
              "              title=\"Convert this dataframe to an interactive table.\"\n",
              "              style=\"display:none;\">\n",
              "        \n",
              "  <svg xmlns=\"http://www.w3.org/2000/svg\" height=\"24px\"viewBox=\"0 0 24 24\"\n",
              "       width=\"24px\">\n",
              "    <path d=\"M0 0h24v24H0V0z\" fill=\"none\"/>\n",
              "    <path d=\"M18.56 5.44l.94 2.06.94-2.06 2.06-.94-2.06-.94-.94-2.06-.94 2.06-2.06.94zm-11 1L8.5 8.5l.94-2.06 2.06-.94-2.06-.94L8.5 2.5l-.94 2.06-2.06.94zm10 10l.94 2.06.94-2.06 2.06-.94-2.06-.94-.94-2.06-.94 2.06-2.06.94z\"/><path d=\"M17.41 7.96l-1.37-1.37c-.4-.4-.92-.59-1.43-.59-.52 0-1.04.2-1.43.59L10.3 9.45l-7.72 7.72c-.78.78-.78 2.05 0 2.83L4 21.41c.39.39.9.59 1.41.59.51 0 1.02-.2 1.41-.59l7.78-7.78 2.81-2.81c.8-.78.8-2.07 0-2.86zM5.41 20L4 18.59l7.72-7.72 1.47 1.35L5.41 20z\"/>\n",
              "  </svg>\n",
              "      </button>\n",
              "      \n",
              "  <style>\n",
              "    .colab-df-container {\n",
              "      display:flex;\n",
              "      flex-wrap:wrap;\n",
              "      gap: 12px;\n",
              "    }\n",
              "\n",
              "    .colab-df-convert {\n",
              "      background-color: #E8F0FE;\n",
              "      border: none;\n",
              "      border-radius: 50%;\n",
              "      cursor: pointer;\n",
              "      display: none;\n",
              "      fill: #1967D2;\n",
              "      height: 32px;\n",
              "      padding: 0 0 0 0;\n",
              "      width: 32px;\n",
              "    }\n",
              "\n",
              "    .colab-df-convert:hover {\n",
              "      background-color: #E2EBFA;\n",
              "      box-shadow: 0px 1px 2px rgba(60, 64, 67, 0.3), 0px 1px 3px 1px rgba(60, 64, 67, 0.15);\n",
              "      fill: #174EA6;\n",
              "    }\n",
              "\n",
              "    [theme=dark] .colab-df-convert {\n",
              "      background-color: #3B4455;\n",
              "      fill: #D2E3FC;\n",
              "    }\n",
              "\n",
              "    [theme=dark] .colab-df-convert:hover {\n",
              "      background-color: #434B5C;\n",
              "      box-shadow: 0px 1px 3px 1px rgba(0, 0, 0, 0.15);\n",
              "      filter: drop-shadow(0px 1px 2px rgba(0, 0, 0, 0.3));\n",
              "      fill: #FFFFFF;\n",
              "    }\n",
              "  </style>\n",
              "\n",
              "      <script>\n",
              "        const buttonEl =\n",
              "          document.querySelector('#df-8bc08ed5-2fa4-4414-8b11-8870da5bcc24 button.colab-df-convert');\n",
              "        buttonEl.style.display =\n",
              "          google.colab.kernel.accessAllowed ? 'block' : 'none';\n",
              "\n",
              "        async function convertToInteractive(key) {\n",
              "          const element = document.querySelector('#df-8bc08ed5-2fa4-4414-8b11-8870da5bcc24');\n",
              "          const dataTable =\n",
              "            await google.colab.kernel.invokeFunction('convertToInteractive',\n",
              "                                                     [key], {});\n",
              "          if (!dataTable) return;\n",
              "\n",
              "          const docLinkHtml = 'Like what you see? Visit the ' +\n",
              "            '<a target=\"_blank\" href=https://colab.research.google.com/notebooks/data_table.ipynb>data table notebook</a>'\n",
              "            + ' to learn more about interactive tables.';\n",
              "          element.innerHTML = '';\n",
              "          dataTable['output_type'] = 'display_data';\n",
              "          await google.colab.output.renderOutput(dataTable, element);\n",
              "          const docLink = document.createElement('div');\n",
              "          docLink.innerHTML = docLinkHtml;\n",
              "          element.appendChild(docLink);\n",
              "        }\n",
              "      </script>\n",
              "    </div>\n",
              "  </div>\n",
              "  "
            ]
          },
          "metadata": {},
          "execution_count": 25
        }
      ]
    },
    {
      "cell_type": "markdown",
      "source": [
        "*Burada en fazla çocuğa sahip bölge güneydoğudur. *"
      ],
      "metadata": {
        "id": "HFMm5CxVNB4-"
      }
    },
    {
      "cell_type": "markdown",
      "source": [
        "**“Age” ile “bmi” arasındaki ilişkiyi inceleyiniz.**"
      ],
      "metadata": {
        "id": "lnJaC1nR2XFg"
      }
    },
    {
      "cell_type": "code",
      "source": [
        "sns.scatterplot(x=\"bmi\",y=\"age\",data=df)"
      ],
      "metadata": {
        "id": "02k4SjmC2ZkI",
        "colab": {
          "base_uri": "https://localhost:8080/",
          "height": 296
        },
        "outputId": "3715a0e4-cbcf-49c2-b1fc-17d23c227279"
      },
      "execution_count": 26,
      "outputs": [
        {
          "output_type": "execute_result",
          "data": {
            "text/plain": [
              "<matplotlib.axes._subplots.AxesSubplot at 0x7fda7d68b7d0>"
            ]
          },
          "metadata": {},
          "execution_count": 26
        },
        {
          "output_type": "display_data",
          "data": {
            "text/plain": [
              "<Figure size 432x288 with 1 Axes>"
            ],
            "image/png": "[encoded data removed]"
          },
          "metadata": {
            "needs_background": "light"
          }
        }
      ]
    },
    {
      "cell_type": "markdown",
      "source": [
        "**bmi” ile “children” arasındaki ilişkiyi inceleyiniz.**"
      ],
      "metadata": {
        "id": "vgqXxbsA21y8"
      }
    },
    {
      "cell_type": "code",
      "source": [
        "sns.scatterplot(x=\"bmi\",y=\"children\",data=df)"
      ],
      "metadata": {
        "id": "BlcOri9r2cUz",
        "colab": {
          "base_uri": "https://localhost:8080/",
          "height": 296
        },
        "outputId": "6f6586fd-016f-431c-96c3-2db0a5f30e67"
      },
      "execution_count": 27,
      "outputs": [
        {
          "output_type": "execute_result",
          "data": {
            "text/plain": [
              "<matplotlib.axes._subplots.AxesSubplot at 0x7fda7906f690>"
            ]
          },
          "metadata": {},
          "execution_count": 27
        },
        {
          "output_type": "display_data",
          "data": {
            "text/plain": [
              "<Figure size 432x288 with 1 Axes>"
            ],
            "image/png": "[encoded data removed]"
          },
          "metadata": {
            "needs_background": "light"
          }
        }
      ]
    },
    {
      "cell_type": "markdown",
      "source": [
        "**bmi değişkeninde outlier bulunuyor mu? inceleyiniz**"
      ],
      "metadata": {
        "id": "sAHRUMqs3dKA"
      }
    },
    {
      "cell_type": "code",
      "source": [
        "sns.histplot(data=df, x=\"bmi\", kde=True)\n"
      ],
      "metadata": {
        "id": "bkLCFmi325CK",
        "colab": {
          "base_uri": "https://localhost:8080/",
          "height": 296
        },
        "outputId": "5d630383-bc5e-480a-de6d-a3962739f240"
      },
      "execution_count": 28,
      "outputs": [
        {
          "output_type": "execute_result",
          "data": {
            "text/plain": [
              "<matplotlib.axes._subplots.AxesSubplot at 0x7fda790b39d0>"
            ]
          },
          "metadata": {},
          "execution_count": 28
        },
        {
          "output_type": "display_data",
          "data": {
            "text/plain": [
              "<Figure size 432x288 with 1 Axes>"
            ],
            "image/png": "[encoded data removed]"
          },
          "metadata": {
            "needs_background": "light"
          }
        }
      ]
    },
    {
      "cell_type": "code",
      "source": [
        "sns.boxplot(data=df, x=\"bmi\")\n",
        "# burada bulunan ekstra noktalar aslında outlierlarımızı gösteriyor."
      ],
      "metadata": {
        "id": "ncPPj8hP6TXW",
        "colab": {
          "base_uri": "https://localhost:8080/",
          "height": 296
        },
        "outputId": "11e1bb6d-3a50-4d07-af10-f15e3c37ff43"
      },
      "execution_count": 29,
      "outputs": [
        {
          "output_type": "execute_result",
          "data": {
            "text/plain": [
              "<matplotlib.axes._subplots.AxesSubplot at 0x7fda78f31a50>"
            ]
          },
          "metadata": {},
          "execution_count": 29
        },
        {
          "output_type": "display_data",
          "data": {
            "text/plain": [
              "<Figure size 432x288 with 1 Axes>"
            ],
            "image/png": "[encoded data removed]"
          },
          "metadata": {
            "needs_background": "light"
          }
        }
      ]
    },
    {
      "cell_type": "code",
      "source": [
        "## Finding the Boundary Values\n",
        "# z-score yöntemiyle outliersları ayrıştırıyoruz.\n",
        "\n",
        "print(\"Highest allowed\",df['bmi'].mean() + 3*df['bmi'].std())\n",
        "print(\"Lowest allowed\",df['bmi'].mean() - 3*df['bmi'].std())\n"
      ],
      "metadata": {
        "id": "Q7UkqM-v3jSJ",
        "colab": {
          "base_uri": "https://localhost:8080/"
        },
        "outputId": "ffce93ad-68cd-47b6-a725-c0c6fcb169e0"
      },
      "execution_count": 30,
      "outputs": [
        {
          "output_type": "stream",
          "name": "stdout",
          "text": [
            "Highest allowed 48.95795759602359\n",
            "Lowest allowed 12.368836125949507\n"
          ]
        }
      ]
    },
    {
      "cell_type": "code",
      "source": [
        "## Finding the Outliers\n",
        "\n",
        "outliers = df[(df['bmi'] > 48.95) | (df['bmi'] < 12.36)]\n",
        "outliers"
      ],
      "metadata": {
        "id": "k3VkWPNH4c3_",
        "colab": {
          "base_uri": "https://localhost:8080/",
          "height": 175
        },
        "outputId": "2c4a40a7-9c88-4afb-8945-fa476a7443d2"
      },
      "execution_count": 31,
      "outputs": [
        {
          "output_type": "execute_result",
          "data": {
            "text/plain": [
              "      age   sex    bmi  children smoker     region     charges\n",
              "116    58  male  49.06         0     no  southeast  11381.3254\n",
              "847    23  male  50.38         1     no  southeast   2438.0552\n",
              "1047   22  male  52.58         1    yes  southeast  44501.3982\n",
              "1317   18  male  53.13         0     no  southeast   1163.4627"
            ],
            "text/html": [
              "\n",
              "  <div id=\"df-b66b0dd4-e058-4a6d-a886-37919d2ad778\">\n",
              "    <div class=\"colab-df-container\">\n",
              "      <div>\n",
              "<style scoped>\n",
              "    .dataframe tbody tr th:only-of-type {\n",
              "        vertical-align: middle;\n",
              "    }\n",
              "\n",
              "    .dataframe tbody tr th {\n",
              "        vertical-align: top;\n",
              "    }\n",
              "\n",
              "    .dataframe thead th {\n",
              "        text-align: right;\n",
              "    }\n",
              "</style>\n",
              "<table border=\"1\" class=\"dataframe\">\n",
              "  <thead>\n",
              "    <tr style=\"text-align: right;\">\n",
              "      <th></th>\n",
              "      <th>age</th>\n",
              "      <th>sex</th>\n",
              "      <th>bmi</th>\n",
              "      <th>children</th>\n",
              "      <th>smoker</th>\n",
              "      <th>region</th>\n",
              "      <th>charges</th>\n",
              "    </tr>\n",
              "  </thead>\n",
              "  <tbody>\n",
              "    <tr>\n",
              "      <th>116</th>\n",
              "      <td>58</td>\n",
              "      <td>male</td>\n",
              "      <td>49.06</td>\n",
              "      <td>0</td>\n",
              "      <td>no</td>\n",
              "      <td>southeast</td>\n",
              "      <td>11381.3254</td>\n",
              "    </tr>\n",
              "    <tr>\n",
              "      <th>847</th>\n",
              "      <td>23</td>\n",
              "      <td>male</td>\n",
              "      <td>50.38</td>\n",
              "      <td>1</td>\n",
              "      <td>no</td>\n",
              "      <td>southeast</td>\n",
              "      <td>2438.0552</td>\n",
              "    </tr>\n",
              "    <tr>\n",
              "      <th>1047</th>\n",
              "      <td>22</td>\n",
              "      <td>male</td>\n",
              "      <td>52.58</td>\n",
              "      <td>1</td>\n",
              "      <td>yes</td>\n",
              "      <td>southeast</td>\n",
              "      <td>44501.3982</td>\n",
              "    </tr>\n",
              "    <tr>\n",
              "      <th>1317</th>\n",
              "      <td>18</td>\n",
              "      <td>male</td>\n",
              "      <td>53.13</td>\n",
              "      <td>0</td>\n",
              "      <td>no</td>\n",
              "      <td>southeast</td>\n",
              "      <td>1163.4627</td>\n",
              "    </tr>\n",
              "  </tbody>\n",
              "</table>\n",
              "</div>\n",
              "      <button class=\"colab-df-convert\" onclick=\"convertToInteractive('df-b66b0dd4-e058-4a6d-a886-37919d2ad778')\"\n",
              "              title=\"Convert this dataframe to an interactive table.\"\n",
              "              style=\"display:none;\">\n",
              "        \n",
              "  <svg xmlns=\"http://www.w3.org/2000/svg\" height=\"24px\"viewBox=\"0 0 24 24\"\n",
              "       width=\"24px\">\n",
              "    <path d=\"M0 0h24v24H0V0z\" fill=\"none\"/>\n",
              "    <path d=\"M18.56 5.44l.94 2.06.94-2.06 2.06-.94-2.06-.94-.94-2.06-.94 2.06-2.06.94zm-11 1L8.5 8.5l.94-2.06 2.06-.94-2.06-.94L8.5 2.5l-.94 2.06-2.06.94zm10 10l.94 2.06.94-2.06 2.06-.94-2.06-.94-.94-2.06-.94 2.06-2.06.94z\"/><path d=\"M17.41 7.96l-1.37-1.37c-.4-.4-.92-.59-1.43-.59-.52 0-1.04.2-1.43.59L10.3 9.45l-7.72 7.72c-.78.78-.78 2.05 0 2.83L4 21.41c.39.39.9.59 1.41.59.51 0 1.02-.2 1.41-.59l7.78-7.78 2.81-2.81c.8-.78.8-2.07 0-2.86zM5.41 20L4 18.59l7.72-7.72 1.47 1.35L5.41 20z\"/>\n",
              "  </svg>\n",
              "      </button>\n",
              "      \n",
              "  <style>\n",
              "    .colab-df-container {\n",
              "      display:flex;\n",
              "      flex-wrap:wrap;\n",
              "      gap: 12px;\n",
              "    }\n",
              "\n",
              "    .colab-df-convert {\n",
              "      background-color: #E8F0FE;\n",
              "      border: none;\n",
              "      border-radius: 50%;\n",
              "      cursor: pointer;\n",
              "      display: none;\n",
              "      fill: #1967D2;\n",
              "      height: 32px;\n",
              "      padding: 0 0 0 0;\n",
              "      width: 32px;\n",
              "    }\n",
              "\n",
              "    .colab-df-convert:hover {\n",
              "      background-color: #E2EBFA;\n",
              "      box-shadow: 0px 1px 2px rgba(60, 64, 67, 0.3), 0px 1px 3px 1px rgba(60, 64, 67, 0.15);\n",
              "      fill: #174EA6;\n",
              "    }\n",
              "\n",
              "    [theme=dark] .colab-df-convert {\n",
              "      background-color: #3B4455;\n",
              "      fill: #D2E3FC;\n",
              "    }\n",
              "\n",
              "    [theme=dark] .colab-df-convert:hover {\n",
              "      background-color: #434B5C;\n",
              "      box-shadow: 0px 1px 3px 1px rgba(0, 0, 0, 0.15);\n",
              "      filter: drop-shadow(0px 1px 2px rgba(0, 0, 0, 0.3));\n",
              "      fill: #FFFFFF;\n",
              "    }\n",
              "  </style>\n",
              "\n",
              "      <script>\n",
              "        const buttonEl =\n",
              "          document.querySelector('#df-b66b0dd4-e058-4a6d-a886-37919d2ad778 button.colab-df-convert');\n",
              "        buttonEl.style.display =\n",
              "          google.colab.kernel.accessAllowed ? 'block' : 'none';\n",
              "\n",
              "        async function convertToInteractive(key) {\n",
              "          const element = document.querySelector('#df-b66b0dd4-e058-4a6d-a886-37919d2ad778');\n",
              "          const dataTable =\n",
              "            await google.colab.kernel.invokeFunction('convertToInteractive',\n",
              "                                                     [key], {});\n",
              "          if (!dataTable) return;\n",
              "\n",
              "          const docLinkHtml = 'Like what you see? Visit the ' +\n",
              "            '<a target=\"_blank\" href=https://colab.research.google.com/notebooks/data_table.ipynb>data table notebook</a>'\n",
              "            + ' to learn more about interactive tables.';\n",
              "          element.innerHTML = '';\n",
              "          dataTable['output_type'] = 'display_data';\n",
              "          await google.colab.output.renderOutput(dataTable, element);\n",
              "          const docLink = document.createElement('div');\n",
              "          docLink.innerHTML = docLinkHtml;\n",
              "          element.appendChild(docLink);\n",
              "        }\n",
              "      </script>\n",
              "    </div>\n",
              "  </div>\n",
              "  "
            ]
          },
          "metadata": {},
          "execution_count": 31
        }
      ]
    },
    {
      "cell_type": "code",
      "source": [
        "## Trimming of Outliers\n",
        "\n",
        "new_df = df[(df['bmi'] < 48.95) & (df['bmi'] > 12.36)]\n",
        "new_df"
      ],
      "metadata": {
        "id": "Y-Ipiy5M4kNX",
        "colab": {
          "base_uri": "https://localhost:8080/",
          "height": 424
        },
        "outputId": "d242041a-4f01-4234-d73b-2832f19c7795"
      },
      "execution_count": 32,
      "outputs": [
        {
          "output_type": "execute_result",
          "data": {
            "text/plain": [
              "      age     sex     bmi  children smoker     region      charges\n",
              "0      19  female  27.900         0    yes  southwest  16884.92400\n",
              "1      18    male  33.770         1     no  southeast   1725.55230\n",
              "2      28    male  33.000         3     no  southeast   4449.46200\n",
              "3      33    male  22.705         0     no  northwest  21984.47061\n",
              "4      32    male  28.880         0     no  northwest   3866.85520\n",
              "...   ...     ...     ...       ...    ...        ...          ...\n",
              "1333   50    male  30.970         3     no  northwest  10600.54830\n",
              "1334   18  female  31.920         0     no  northeast   2205.98080\n",
              "1335   18  female  36.850         0     no  southeast   1629.83350\n",
              "1336   21  female  25.800         0     no  southwest   2007.94500\n",
              "1337   61  female  29.070         0    yes  northwest  29141.36030\n",
              "\n",
              "[1334 rows x 7 columns]"
            ],
            "text/html": [
              "\n",
              "  <div id=\"df-ad07fda5-8507-4074-ae28-2ace768ed37e\">\n",
              "    <div class=\"colab-df-container\">\n",
              "      <div>\n",
              "<style scoped>\n",
              "    .dataframe tbody tr th:only-of-type {\n",
              "        vertical-align: middle;\n",
              "    }\n",
              "\n",
              "    .dataframe tbody tr th {\n",
              "        vertical-align: top;\n",
              "    }\n",
              "\n",
              "    .dataframe thead th {\n",
              "        text-align: right;\n",
              "    }\n",
              "</style>\n",
              "<table border=\"1\" class=\"dataframe\">\n",
              "  <thead>\n",
              "    <tr style=\"text-align: right;\">\n",
              "      <th></th>\n",
              "      <th>age</th>\n",
              "      <th>sex</th>\n",
              "      <th>bmi</th>\n",
              "      <th>children</th>\n",
              "      <th>smoker</th>\n",
              "      <th>region</th>\n",
              "      <th>charges</th>\n",
              "    </tr>\n",
              "  </thead>\n",
              "  <tbody>\n",
              "    <tr>\n",
              "      <th>0</th>\n",
              "      <td>19</td>\n",
              "      <td>female</td>\n",
              "      <td>27.900</td>\n",
              "      <td>0</td>\n",
              "      <td>yes</td>\n",
              "      <td>southwest</td>\n",
              "      <td>16884.92400</td>\n",
              "    </tr>\n",
              "    <tr>\n",
              "      <th>1</th>\n",
              "      <td>18</td>\n",
              "      <td>male</td>\n",
              "      <td>33.770</td>\n",
              "      <td>1</td>\n",
              "      <td>no</td>\n",
              "      <td>southeast</td>\n",
              "      <td>1725.55230</td>\n",
              "    </tr>\n",
              "    <tr>\n",
              "      <th>2</th>\n",
              "      <td>28</td>\n",
              "      <td>male</td>\n",
              "      <td>33.000</td>\n",
              "      <td>3</td>\n",
              "      <td>no</td>\n",
              "      <td>southeast</td>\n",
              "      <td>4449.46200</td>\n",
              "    </tr>\n",
              "    <tr>\n",
              "      <th>3</th>\n",
              "      <td>33</td>\n",
              "      <td>male</td>\n",
              "      <td>22.705</td>\n",
              "      <td>0</td>\n",
              "      <td>no</td>\n",
              "      <td>northwest</td>\n",
              "      <td>21984.47061</td>\n",
              "    </tr>\n",
              "    <tr>\n",
              "      <th>4</th>\n",
              "      <td>32</td>\n",
              "      <td>male</td>\n",
              "      <td>28.880</td>\n",
              "      <td>0</td>\n",
              "      <td>no</td>\n",
              "      <td>northwest</td>\n",
              "      <td>3866.85520</td>\n",
              "    </tr>\n",
              "    <tr>\n",
              "      <th>...</th>\n",
              "      <td>...</td>\n",
              "      <td>...</td>\n",
              "      <td>...</td>\n",
              "      <td>...</td>\n",
              "      <td>...</td>\n",
              "      <td>...</td>\n",
              "      <td>...</td>\n",
              "    </tr>\n",
              "    <tr>\n",
              "      <th>1333</th>\n",
              "      <td>50</td>\n",
              "      <td>male</td>\n",
              "      <td>30.970</td>\n",
              "      <td>3</td>\n",
              "      <td>no</td>\n",
              "      <td>northwest</td>\n",
              "      <td>10600.54830</td>\n",
              "    </tr>\n",
              "    <tr>\n",
              "      <th>1334</th>\n",
              "      <td>18</td>\n",
              "      <td>female</td>\n",
              "      <td>31.920</td>\n",
              "      <td>0</td>\n",
              "      <td>no</td>\n",
              "      <td>northeast</td>\n",
              "      <td>2205.98080</td>\n",
              "    </tr>\n",
              "    <tr>\n",
              "      <th>1335</th>\n",
              "      <td>18</td>\n",
              "      <td>female</td>\n",
              "      <td>36.850</td>\n",
              "      <td>0</td>\n",
              "      <td>no</td>\n",
              "      <td>southeast</td>\n",
              "      <td>1629.83350</td>\n",
              "    </tr>\n",
              "    <tr>\n",
              "      <th>1336</th>\n",
              "      <td>21</td>\n",
              "      <td>female</td>\n",
              "      <td>25.800</td>\n",
              "      <td>0</td>\n",
              "      <td>no</td>\n",
              "      <td>southwest</td>\n",
              "      <td>2007.94500</td>\n",
              "    </tr>\n",
              "    <tr>\n",
              "      <th>1337</th>\n",
              "      <td>61</td>\n",
              "      <td>female</td>\n",
              "      <td>29.070</td>\n",
              "      <td>0</td>\n",
              "      <td>yes</td>\n",
              "      <td>northwest</td>\n",
              "      <td>29141.36030</td>\n",
              "    </tr>\n",
              "  </tbody>\n",
              "</table>\n",
              "<p>1334 rows × 7 columns</p>\n",
              "</div>\n",
              "      <button class=\"colab-df-convert\" onclick=\"convertToInteractive('df-ad07fda5-8507-4074-ae28-2ace768ed37e')\"\n",
              "              title=\"Convert this dataframe to an interactive table.\"\n",
              "              style=\"display:none;\">\n",
              "        \n",
              "  <svg xmlns=\"http://www.w3.org/2000/svg\" height=\"24px\"viewBox=\"0 0 24 24\"\n",
              "       width=\"24px\">\n",
              "    <path d=\"M0 0h24v24H0V0z\" fill=\"none\"/>\n",
              "    <path d=\"M18.56 5.44l.94 2.06.94-2.06 2.06-.94-2.06-.94-.94-2.06-.94 2.06-2.06.94zm-11 1L8.5 8.5l.94-2.06 2.06-.94-2.06-.94L8.5 2.5l-.94 2.06-2.06.94zm10 10l.94 2.06.94-2.06 2.06-.94-2.06-.94-.94-2.06-.94 2.06-2.06.94z\"/><path d=\"M17.41 7.96l-1.37-1.37c-.4-.4-.92-.59-1.43-.59-.52 0-1.04.2-1.43.59L10.3 9.45l-7.72 7.72c-.78.78-.78 2.05 0 2.83L4 21.41c.39.39.9.59 1.41.59.51 0 1.02-.2 1.41-.59l7.78-7.78 2.81-2.81c.8-.78.8-2.07 0-2.86zM5.41 20L4 18.59l7.72-7.72 1.47 1.35L5.41 20z\"/>\n",
              "  </svg>\n",
              "      </button>\n",
              "      \n",
              "  <style>\n",
              "    .colab-df-container {\n",
              "      display:flex;\n",
              "      flex-wrap:wrap;\n",
              "      gap: 12px;\n",
              "    }\n",
              "\n",
              "    .colab-df-convert {\n",
              "      background-color: #E8F0FE;\n",
              "      border: none;\n",
              "      border-radius: 50%;\n",
              "      cursor: pointer;\n",
              "      display: none;\n",
              "      fill: #1967D2;\n",
              "      height: 32px;\n",
              "      padding: 0 0 0 0;\n",
              "      width: 32px;\n",
              "    }\n",
              "\n",
              "    .colab-df-convert:hover {\n",
              "      background-color: #E2EBFA;\n",
              "      box-shadow: 0px 1px 2px rgba(60, 64, 67, 0.3), 0px 1px 3px 1px rgba(60, 64, 67, 0.15);\n",
              "      fill: #174EA6;\n",
              "    }\n",
              "\n",
              "    [theme=dark] .colab-df-convert {\n",
              "      background-color: #3B4455;\n",
              "      fill: #D2E3FC;\n",
              "    }\n",
              "\n",
              "    [theme=dark] .colab-df-convert:hover {\n",
              "      background-color: #434B5C;\n",
              "      box-shadow: 0px 1px 3px 1px rgba(0, 0, 0, 0.15);\n",
              "      filter: drop-shadow(0px 1px 2px rgba(0, 0, 0, 0.3));\n",
              "      fill: #FFFFFF;\n",
              "    }\n",
              "  </style>\n",
              "\n",
              "      <script>\n",
              "        const buttonEl =\n",
              "          document.querySelector('#df-ad07fda5-8507-4074-ae28-2ace768ed37e button.colab-df-convert');\n",
              "        buttonEl.style.display =\n",
              "          google.colab.kernel.accessAllowed ? 'block' : 'none';\n",
              "\n",
              "        async function convertToInteractive(key) {\n",
              "          const element = document.querySelector('#df-ad07fda5-8507-4074-ae28-2ace768ed37e');\n",
              "          const dataTable =\n",
              "            await google.colab.kernel.invokeFunction('convertToInteractive',\n",
              "                                                     [key], {});\n",
              "          if (!dataTable) return;\n",
              "\n",
              "          const docLinkHtml = 'Like what you see? Visit the ' +\n",
              "            '<a target=\"_blank\" href=https://colab.research.google.com/notebooks/data_table.ipynb>data table notebook</a>'\n",
              "            + ' to learn more about interactive tables.';\n",
              "          element.innerHTML = '';\n",
              "          dataTable['output_type'] = 'display_data';\n",
              "          await google.colab.output.renderOutput(dataTable, element);\n",
              "          const docLink = document.createElement('div');\n",
              "          docLink.innerHTML = docLinkHtml;\n",
              "          element.appendChild(docLink);\n",
              "        }\n",
              "      </script>\n",
              "    </div>\n",
              "  </div>\n",
              "  "
            ]
          },
          "metadata": {},
          "execution_count": 32
        }
      ]
    },
    {
      "cell_type": "code",
      "source": [
        "sns.boxplot(data=new_df, x=\"bmi\")\n",
        "# outlierlardan temizlenmiş yeni bmi'ımız."
      ],
      "metadata": {
        "id": "_dHxuEco6pEh",
        "colab": {
          "base_uri": "https://localhost:8080/",
          "height": 296
        },
        "outputId": "02a6e3dd-6f66-4015-e0fc-36dc3a451e24"
      },
      "execution_count": 33,
      "outputs": [
        {
          "output_type": "execute_result",
          "data": {
            "text/plain": [
              "<matplotlib.axes._subplots.AxesSubplot at 0x7fda78ea9510>"
            ]
          },
          "metadata": {},
          "execution_count": 33
        },
        {
          "output_type": "display_data",
          "data": {
            "text/plain": [
              "<Figure size 432x288 with 1 Axes>"
            ],
            "image/png": "[encoded data removed]"
          },
          "metadata": {
            "needs_background": "light"
          }
        }
      ]
    },
    {
      "cell_type": "markdown",
      "source": [
        "**“bmi” ile “charges” arasındaki ilişkiyi inceleyiniz.**"
      ],
      "metadata": {
        "id": "01wRUDBa5H3Q"
      }
    },
    {
      "cell_type": "code",
      "source": [
        "sns.scatterplot(x=\"bmi\",y=\"charges\",data=new_df)"
      ],
      "metadata": {
        "id": "3xNE_bwC4ygT",
        "colab": {
          "base_uri": "https://localhost:8080/",
          "height": 296
        },
        "outputId": "a3408e50-9182-4fe6-e89a-bba7879dc806"
      },
      "execution_count": 34,
      "outputs": [
        {
          "output_type": "execute_result",
          "data": {
            "text/plain": [
              "<matplotlib.axes._subplots.AxesSubplot at 0x7fda78e1c550>"
            ]
          },
          "metadata": {},
          "execution_count": 34
        },
        {
          "output_type": "display_data",
          "data": {
            "text/plain": [
              "<Figure size 432x288 with 1 Axes>"
            ],
            "image/png": "[encoded data removed]"
          },
          "metadata": {
            "needs_background": "light"
          }
        }
      ]
    },
    {
      "cell_type": "markdown",
      "source": [
        "**region”, “smoker” ve “bmi” arasındaki ilişkiyi bar plot kullanarak inceleyiniz.**"
      ],
      "metadata": {
        "id": "k_sqHPrv5Ty0"
      }
    },
    {
      "cell_type": "code",
      "source": [
        "sns.barplot(y=\"bmi\",x=\"region\",data=df, hue=\"smoker\")"
      ],
      "metadata": {
        "id": "Ph79kVUO5M6H",
        "colab": {
          "base_uri": "https://localhost:8080/",
          "height": 296
        },
        "outputId": "eb2ad21e-d426-4128-8935-6a5192150d18"
      },
      "execution_count": 35,
      "outputs": [
        {
          "output_type": "execute_result",
          "data": {
            "text/plain": [
              "<matplotlib.axes._subplots.AxesSubplot at 0x7fda78d97810>"
            ]
          },
          "metadata": {},
          "execution_count": 35
        },
        {
          "output_type": "display_data",
          "data": {
            "text/plain": [
              "<Figure size 432x288 with 1 Axes>"
            ],
            "image/png": "[encoded data removed]"
          },
          "metadata": {
            "needs_background": "light"
          }
        }
      ]
    },
    {
      "cell_type": "code",
      "source": [
        "corr = df.corr()\n",
        "plt.figure(figsize=(20, 15))\n",
        "sns.heatmap(corr, annot=True)\n",
        "plt.plot()"
      ],
      "metadata": {
        "colab": {
          "base_uri": "https://localhost:8080/",
          "height": 884
        },
        "id": "KmUCAVT7V3q4",
        "outputId": "a92a856d-6449-4444-d97d-25c95e8a111f"
      },
      "execution_count": 36,
      "outputs": [
        {
          "output_type": "execute_result",
          "data": {
            "text/plain": [
              "[]"
            ]
          },
          "metadata": {},
          "execution_count": 36
        },
        {
          "output_type": "display_data",
          "data": {
            "text/plain": [
              "<Figure size 1440x1080 with 2 Axes>"
            ],
            "image/png": "[encoded data removed]"
          },
          "metadata": {
            "needs_background": "light"
          }
        }
      ]
    },
    {
      "cell_type": "markdown",
      "source": [
        "*Her bir bölgedeki bmi değerini, sigara içenler ve içmeyenler olarak görebiliriz.*\n"
      ],
      "metadata": {
        "id": "T3o2Xtx6UddG"
      }
    },
    {
      "cell_type": "markdown",
      "source": [
        "**VERİ ÖN İŞLEME YAPILMASI**"
      ],
      "metadata": {
        "id": "p-xXLIo6UpBL"
      }
    },
    {
      "cell_type": "code",
      "source": [
        "new_df.describe()"
      ],
      "metadata": {
        "colab": {
          "base_uri": "https://localhost:8080/",
          "height": 300
        },
        "id": "9DYF2m8dUs5d",
        "outputId": "0c54481a-fc94-43f1-e629-bb008ba5c3ca"
      },
      "execution_count": 37,
      "outputs": [
        {
          "output_type": "execute_result",
          "data": {
            "text/plain": [
              "               age          bmi     children       charges\n",
              "count  1334.000000  1334.000000  1334.000000   1334.000000\n",
              "mean     39.233883    30.601555     1.096702  13265.622751\n",
              "std      14.034654     6.000927     1.206548  12089.666548\n",
              "min      18.000000    15.960000     0.000000   1121.873900\n",
              "25%      27.000000    26.237500     0.000000   4746.521225\n",
              "50%      39.000000    30.332500     1.000000   9382.033000\n",
              "75%      51.000000    34.595000     2.000000  16639.912515\n",
              "max      64.000000    48.070000     5.000000  63770.428010"
            ],
            "text/html": [
              "\n",
              "  <div id=\"df-9ff4600c-1bbd-4101-919d-400fc8a60a49\">\n",
              "    <div class=\"colab-df-container\">\n",
              "      <div>\n",
              "<style scoped>\n",
              "    .dataframe tbody tr th:only-of-type {\n",
              "        vertical-align: middle;\n",
              "    }\n",
              "\n",
              "    .dataframe tbody tr th {\n",
              "        vertical-align: top;\n",
              "    }\n",
              "\n",
              "    .dataframe thead th {\n",
              "        text-align: right;\n",
              "    }\n",
              "</style>\n",
              "<table border=\"1\" class=\"dataframe\">\n",
              "  <thead>\n",
              "    <tr style=\"text-align: right;\">\n",
              "      <th></th>\n",
              "      <th>age</th>\n",
              "      <th>bmi</th>\n",
              "      <th>children</th>\n",
              "      <th>charges</th>\n",
              "    </tr>\n",
              "  </thead>\n",
              "  <tbody>\n",
              "    <tr>\n",
              "      <th>count</th>\n",
              "      <td>1334.000000</td>\n",
              "      <td>1334.000000</td>\n",
              "      <td>1334.000000</td>\n",
              "      <td>1334.000000</td>\n",
              "    </tr>\n",
              "    <tr>\n",
              "      <th>mean</th>\n",
              "      <td>39.233883</td>\n",
              "      <td>30.601555</td>\n",
              "      <td>1.096702</td>\n",
              "      <td>13265.622751</td>\n",
              "    </tr>\n",
              "    <tr>\n",
              "      <th>std</th>\n",
              "      <td>14.034654</td>\n",
              "      <td>6.000927</td>\n",
              "      <td>1.206548</td>\n",
              "      <td>12089.666548</td>\n",
              "    </tr>\n",
              "    <tr>\n",
              "      <th>min</th>\n",
              "      <td>18.000000</td>\n",
              "      <td>15.960000</td>\n",
              "      <td>0.000000</td>\n",
              "      <td>1121.873900</td>\n",
              "    </tr>\n",
              "    <tr>\n",
              "      <th>25%</th>\n",
              "      <td>27.000000</td>\n",
              "      <td>26.237500</td>\n",
              "      <td>0.000000</td>\n",
              "      <td>4746.521225</td>\n",
              "    </tr>\n",
              "    <tr>\n",
              "      <th>50%</th>\n",
              "      <td>39.000000</td>\n",
              "      <td>30.332500</td>\n",
              "      <td>1.000000</td>\n",
              "      <td>9382.033000</td>\n",
              "    </tr>\n",
              "    <tr>\n",
              "      <th>75%</th>\n",
              "      <td>51.000000</td>\n",
              "      <td>34.595000</td>\n",
              "      <td>2.000000</td>\n",
              "      <td>16639.912515</td>\n",
              "    </tr>\n",
              "    <tr>\n",
              "      <th>max</th>\n",
              "      <td>64.000000</td>\n",
              "      <td>48.070000</td>\n",
              "      <td>5.000000</td>\n",
              "      <td>63770.428010</td>\n",
              "    </tr>\n",
              "  </tbody>\n",
              "</table>\n",
              "</div>\n",
              "      <button class=\"colab-df-convert\" onclick=\"convertToInteractive('df-9ff4600c-1bbd-4101-919d-400fc8a60a49')\"\n",
              "              title=\"Convert this dataframe to an interactive table.\"\n",
              "              style=\"display:none;\">\n",
              "        \n",
              "  <svg xmlns=\"http://www.w3.org/2000/svg\" height=\"24px\"viewBox=\"0 0 24 24\"\n",
              "       width=\"24px\">\n",
              "    <path d=\"M0 0h24v24H0V0z\" fill=\"none\"/>\n",
              "    <path d=\"M18.56 5.44l.94 2.06.94-2.06 2.06-.94-2.06-.94-.94-2.06-.94 2.06-2.06.94zm-11 1L8.5 8.5l.94-2.06 2.06-.94-2.06-.94L8.5 2.5l-.94 2.06-2.06.94zm10 10l.94 2.06.94-2.06 2.06-.94-2.06-.94-.94-2.06-.94 2.06-2.06.94z\"/><path d=\"M17.41 7.96l-1.37-1.37c-.4-.4-.92-.59-1.43-.59-.52 0-1.04.2-1.43.59L10.3 9.45l-7.72 7.72c-.78.78-.78 2.05 0 2.83L4 21.41c.39.39.9.59 1.41.59.51 0 1.02-.2 1.41-.59l7.78-7.78 2.81-2.81c.8-.78.8-2.07 0-2.86zM5.41 20L4 18.59l7.72-7.72 1.47 1.35L5.41 20z\"/>\n",
              "  </svg>\n",
              "      </button>\n",
              "      \n",
              "  <style>\n",
              "    .colab-df-container {\n",
              "      display:flex;\n",
              "      flex-wrap:wrap;\n",
              "      gap: 12px;\n",
              "    }\n",
              "\n",
              "    .colab-df-convert {\n",
              "      background-color: #E8F0FE;\n",
              "      border: none;\n",
              "      border-radius: 50%;\n",
              "      cursor: pointer;\n",
              "      display: none;\n",
              "      fill: #1967D2;\n",
              "      height: 32px;\n",
              "      padding: 0 0 0 0;\n",
              "      width: 32px;\n",
              "    }\n",
              "\n",
              "    .colab-df-convert:hover {\n",
              "      background-color: #E2EBFA;\n",
              "      box-shadow: 0px 1px 2px rgba(60, 64, 67, 0.3), 0px 1px 3px 1px rgba(60, 64, 67, 0.15);\n",
              "      fill: #174EA6;\n",
              "    }\n",
              "\n",
              "    [theme=dark] .colab-df-convert {\n",
              "      background-color: #3B4455;\n",
              "      fill: #D2E3FC;\n",
              "    }\n",
              "\n",
              "    [theme=dark] .colab-df-convert:hover {\n",
              "      background-color: #434B5C;\n",
              "      box-shadow: 0px 1px 3px 1px rgba(0, 0, 0, 0.15);\n",
              "      filter: drop-shadow(0px 1px 2px rgba(0, 0, 0, 0.3));\n",
              "      fill: #FFFFFF;\n",
              "    }\n",
              "  </style>\n",
              "\n",
              "      <script>\n",
              "        const buttonEl =\n",
              "          document.querySelector('#df-9ff4600c-1bbd-4101-919d-400fc8a60a49 button.colab-df-convert');\n",
              "        buttonEl.style.display =\n",
              "          google.colab.kernel.accessAllowed ? 'block' : 'none';\n",
              "\n",
              "        async function convertToInteractive(key) {\n",
              "          const element = document.querySelector('#df-9ff4600c-1bbd-4101-919d-400fc8a60a49');\n",
              "          const dataTable =\n",
              "            await google.colab.kernel.invokeFunction('convertToInteractive',\n",
              "                                                     [key], {});\n",
              "          if (!dataTable) return;\n",
              "\n",
              "          const docLinkHtml = 'Like what you see? Visit the ' +\n",
              "            '<a target=\"_blank\" href=https://colab.research.google.com/notebooks/data_table.ipynb>data table notebook</a>'\n",
              "            + ' to learn more about interactive tables.';\n",
              "          element.innerHTML = '';\n",
              "          dataTable['output_type'] = 'display_data';\n",
              "          await google.colab.output.renderOutput(dataTable, element);\n",
              "          const docLink = document.createElement('div');\n",
              "          docLink.innerHTML = docLinkHtml;\n",
              "          element.appendChild(docLink);\n",
              "        }\n",
              "      </script>\n",
              "    </div>\n",
              "  </div>\n",
              "  "
            ]
          },
          "metadata": {},
          "execution_count": 37
        }
      ]
    },
    {
      "cell_type": "code",
      "source": [
        "new_df.info()"
      ],
      "metadata": {
        "colab": {
          "base_uri": "https://localhost:8080/"
        },
        "id": "FlwxBP29Uxeq",
        "outputId": "c477bb14-0e9e-46f8-8679-f2129fec8300"
      },
      "execution_count": 38,
      "outputs": [
        {
          "output_type": "stream",
          "name": "stdout",
          "text": [
            "<class 'pandas.core.frame.DataFrame'>\n",
            "Int64Index: 1334 entries, 0 to 1337\n",
            "Data columns (total 7 columns):\n",
            " #   Column    Non-Null Count  Dtype  \n",
            "---  ------    --------------  -----  \n",
            " 0   age       1334 non-null   int64  \n",
            " 1   sex       1334 non-null   object \n",
            " 2   bmi       1334 non-null   float64\n",
            " 3   children  1334 non-null   int64  \n",
            " 4   smoker    1334 non-null   object \n",
            " 5   region    1334 non-null   object \n",
            " 6   charges   1334 non-null   float64\n",
            "dtypes: float64(2), int64(2), object(3)\n",
            "memory usage: 83.4+ KB\n"
          ]
        }
      ]
    },
    {
      "cell_type": "code",
      "source": [
        "# Yeni datasetimizde bulunan object değerleri için one-hot encoding uyguluyoruz.\n",
        "df1 = dummies(new_df,\"sex\")\n",
        "df2 = dummies(df1,\"smoker\")\n",
        "df3 = dummies(df2,\"region\")\n",
        "df3"
      ],
      "metadata": {
        "colab": {
          "base_uri": "https://localhost:8080/",
          "height": 424
        },
        "id": "sqYn3W7BU6mW",
        "outputId": "c82225d0-0083-4395-db84-2d9b635ed0a4"
      },
      "execution_count": 39,
      "outputs": [
        {
          "output_type": "execute_result",
          "data": {
            "text/plain": [
              "      age     bmi  children      charges  sex_female  sex_male  smoker_no  \\\n",
              "0      19  27.900         0  16884.92400           1         0          0   \n",
              "1      18  33.770         1   1725.55230           0         1          1   \n",
              "2      28  33.000         3   4449.46200           0         1          1   \n",
              "3      33  22.705         0  21984.47061           0         1          1   \n",
              "4      32  28.880         0   3866.85520           0         1          1   \n",
              "...   ...     ...       ...          ...         ...       ...        ...   \n",
              "1333   50  30.970         3  10600.54830           0         1          1   \n",
              "1334   18  31.920         0   2205.98080           1         0          1   \n",
              "1335   18  36.850         0   1629.83350           1         0          1   \n",
              "1336   21  25.800         0   2007.94500           1         0          1   \n",
              "1337   61  29.070         0  29141.36030           1         0          0   \n",
              "\n",
              "      smoker_yes  region_northeast  region_northwest  region_southeast  \\\n",
              "0              1                 0                 0                 0   \n",
              "1              0                 0                 0                 1   \n",
              "2              0                 0                 0                 1   \n",
              "3              0                 0                 1                 0   \n",
              "4              0                 0                 1                 0   \n",
              "...          ...               ...               ...               ...   \n",
              "1333           0                 0                 1                 0   \n",
              "1334           0                 1                 0                 0   \n",
              "1335           0                 0                 0                 1   \n",
              "1336           0                 0                 0                 0   \n",
              "1337           1                 0                 1                 0   \n",
              "\n",
              "      region_southwest  \n",
              "0                    1  \n",
              "1                    0  \n",
              "2                    0  \n",
              "3                    0  \n",
              "4                    0  \n",
              "...                ...  \n",
              "1333                 0  \n",
              "1334                 0  \n",
              "1335                 0  \n",
              "1336                 1  \n",
              "1337                 0  \n",
              "\n",
              "[1334 rows x 12 columns]"
            ],
            "text/html": [
              "\n",
              "  <div id=\"df-2841d8fd-ec6d-4ccc-8bc6-a411651bfa4e\">\n",
              "    <div class=\"colab-df-container\">\n",
              "      <div>\n",
              "<style scoped>\n",
              "    .dataframe tbody tr th:only-of-type {\n",
              "        vertical-align: middle;\n",
              "    }\n",
              "\n",
              "    .dataframe tbody tr th {\n",
              "        vertical-align: top;\n",
              "    }\n",
              "\n",
              "    .dataframe thead th {\n",
              "        text-align: right;\n",
              "    }\n",
              "</style>\n",
              "<table border=\"1\" class=\"dataframe\">\n",
              "  <thead>\n",
              "    <tr style=\"text-align: right;\">\n",
              "      <th></th>\n",
              "      <th>age</th>\n",
              "      <th>bmi</th>\n",
              "      <th>children</th>\n",
              "      <th>charges</th>\n",
              "      <th>sex_female</th>\n",
              "      <th>sex_male</th>\n",
              "      <th>smoker_no</th>\n",
              "      <th>smoker_yes</th>\n",
              "      <th>region_northeast</th>\n",
              "      <th>region_northwest</th>\n",
              "      <th>region_southeast</th>\n",
              "      <th>region_southwest</th>\n",
              "    </tr>\n",
              "  </thead>\n",
              "  <tbody>\n",
              "    <tr>\n",
              "      <th>0</th>\n",
              "      <td>19</td>\n",
              "      <td>27.900</td>\n",
              "      <td>0</td>\n",
              "      <td>16884.92400</td>\n",
              "      <td>1</td>\n",
              "      <td>0</td>\n",
              "      <td>0</td>\n",
              "      <td>1</td>\n",
              "      <td>0</td>\n",
              "      <td>0</td>\n",
              "      <td>0</td>\n",
              "      <td>1</td>\n",
              "    </tr>\n",
              "    <tr>\n",
              "      <th>1</th>\n",
              "      <td>18</td>\n",
              "      <td>33.770</td>\n",
              "      <td>1</td>\n",
              "      <td>1725.55230</td>\n",
              "      <td>0</td>\n",
              "      <td>1</td>\n",
              "      <td>1</td>\n",
              "      <td>0</td>\n",
              "      <td>0</td>\n",
              "      <td>0</td>\n",
              "      <td>1</td>\n",
              "      <td>0</td>\n",
              "    </tr>\n",
              "    <tr>\n",
              "      <th>2</th>\n",
              "      <td>28</td>\n",
              "      <td>33.000</td>\n",
              "      <td>3</td>\n",
              "      <td>4449.46200</td>\n",
              "      <td>0</td>\n",
              "      <td>1</td>\n",
              "      <td>1</td>\n",
              "      <td>0</td>\n",
              "      <td>0</td>\n",
              "      <td>0</td>\n",
              "      <td>1</td>\n",
              "      <td>0</td>\n",
              "    </tr>\n",
              "    <tr>\n",
              "      <th>3</th>\n",
              "      <td>33</td>\n",
              "      <td>22.705</td>\n",
              "      <td>0</td>\n",
              "      <td>21984.47061</td>\n",
              "      <td>0</td>\n",
              "      <td>1</td>\n",
              "      <td>1</td>\n",
              "      <td>0</td>\n",
              "      <td>0</td>\n",
              "      <td>1</td>\n",
              "      <td>0</td>\n",
              "      <td>0</td>\n",
              "    </tr>\n",
              "    <tr>\n",
              "      <th>4</th>\n",
              "      <td>32</td>\n",
              "      <td>28.880</td>\n",
              "      <td>0</td>\n",
              "      <td>3866.85520</td>\n",
              "      <td>0</td>\n",
              "      <td>1</td>\n",
              "      <td>1</td>\n",
              "      <td>0</td>\n",
              "      <td>0</td>\n",
              "      <td>1</td>\n",
              "      <td>0</td>\n",
              "      <td>0</td>\n",
              "    </tr>\n",
              "    <tr>\n",
              "      <th>...</th>\n",
              "      <td>...</td>\n",
              "      <td>...</td>\n",
              "      <td>...</td>\n",
              "      <td>...</td>\n",
              "      <td>...</td>\n",
              "      <td>...</td>\n",
              "      <td>...</td>\n",
              "      <td>...</td>\n",
              "      <td>...</td>\n",
              "      <td>...</td>\n",
              "      <td>...</td>\n",
              "      <td>...</td>\n",
              "    </tr>\n",
              "    <tr>\n",
              "      <th>1333</th>\n",
              "      <td>50</td>\n",
              "      <td>30.970</td>\n",
              "      <td>3</td>\n",
              "      <td>10600.54830</td>\n",
              "      <td>0</td>\n",
              "      <td>1</td>\n",
              "      <td>1</td>\n",
              "      <td>0</td>\n",
              "      <td>0</td>\n",
              "      <td>1</td>\n",
              "      <td>0</td>\n",
              "      <td>0</td>\n",
              "    </tr>\n",
              "    <tr>\n",
              "      <th>1334</th>\n",
              "      <td>18</td>\n",
              "      <td>31.920</td>\n",
              "      <td>0</td>\n",
              "      <td>2205.98080</td>\n",
              "      <td>1</td>\n",
              "      <td>0</td>\n",
              "      <td>1</td>\n",
              "      <td>0</td>\n",
              "      <td>1</td>\n",
              "      <td>0</td>\n",
              "      <td>0</td>\n",
              "      <td>0</td>\n",
              "    </tr>\n",
              "    <tr>\n",
              "      <th>1335</th>\n",
              "      <td>18</td>\n",
              "      <td>36.850</td>\n",
              "      <td>0</td>\n",
              "      <td>1629.83350</td>\n",
              "      <td>1</td>\n",
              "      <td>0</td>\n",
              "      <td>1</td>\n",
              "      <td>0</td>\n",
              "      <td>0</td>\n",
              "      <td>0</td>\n",
              "      <td>1</td>\n",
              "      <td>0</td>\n",
              "    </tr>\n",
              "    <tr>\n",
              "      <th>1336</th>\n",
              "      <td>21</td>\n",
              "      <td>25.800</td>\n",
              "      <td>0</td>\n",
              "      <td>2007.94500</td>\n",
              "      <td>1</td>\n",
              "      <td>0</td>\n",
              "      <td>1</td>\n",
              "      <td>0</td>\n",
              "      <td>0</td>\n",
              "      <td>0</td>\n",
              "      <td>0</td>\n",
              "      <td>1</td>\n",
              "    </tr>\n",
              "    <tr>\n",
              "      <th>1337</th>\n",
              "      <td>61</td>\n",
              "      <td>29.070</td>\n",
              "      <td>0</td>\n",
              "      <td>29141.36030</td>\n",
              "      <td>1</td>\n",
              "      <td>0</td>\n",
              "      <td>0</td>\n",
              "      <td>1</td>\n",
              "      <td>0</td>\n",
              "      <td>1</td>\n",
              "      <td>0</td>\n",
              "      <td>0</td>\n",
              "    </tr>\n",
              "  </tbody>\n",
              "</table>\n",
              "<p>1334 rows × 12 columns</p>\n",
              "</div>\n",
              "      <button class=\"colab-df-convert\" onclick=\"convertToInteractive('df-2841d8fd-ec6d-4ccc-8bc6-a411651bfa4e')\"\n",
              "              title=\"Convert this dataframe to an interactive table.\"\n",
              "              style=\"display:none;\">\n",
              "        \n",
              "  <svg xmlns=\"http://www.w3.org/2000/svg\" height=\"24px\"viewBox=\"0 0 24 24\"\n",
              "       width=\"24px\">\n",
              "    <path d=\"M0 0h24v24H0V0z\" fill=\"none\"/>\n",
              "    <path d=\"M18.56 5.44l.94 2.06.94-2.06 2.06-.94-2.06-.94-.94-2.06-.94 2.06-2.06.94zm-11 1L8.5 8.5l.94-2.06 2.06-.94-2.06-.94L8.5 2.5l-.94 2.06-2.06.94zm10 10l.94 2.06.94-2.06 2.06-.94-2.06-.94-.94-2.06-.94 2.06-2.06.94z\"/><path d=\"M17.41 7.96l-1.37-1.37c-.4-.4-.92-.59-1.43-.59-.52 0-1.04.2-1.43.59L10.3 9.45l-7.72 7.72c-.78.78-.78 2.05 0 2.83L4 21.41c.39.39.9.59 1.41.59.51 0 1.02-.2 1.41-.59l7.78-7.78 2.81-2.81c.8-.78.8-2.07 0-2.86zM5.41 20L4 18.59l7.72-7.72 1.47 1.35L5.41 20z\"/>\n",
              "  </svg>\n",
              "      </button>\n",
              "      \n",
              "  <style>\n",
              "    .colab-df-container {\n",
              "      display:flex;\n",
              "      flex-wrap:wrap;\n",
              "      gap: 12px;\n",
              "    }\n",
              "\n",
              "    .colab-df-convert {\n",
              "      background-color: #E8F0FE;\n",
              "      border: none;\n",
              "      border-radius: 50%;\n",
              "      cursor: pointer;\n",
              "      display: none;\n",
              "      fill: #1967D2;\n",
              "      height: 32px;\n",
              "      padding: 0 0 0 0;\n",
              "      width: 32px;\n",
              "    }\n",
              "\n",
              "    .colab-df-convert:hover {\n",
              "      background-color: #E2EBFA;\n",
              "      box-shadow: 0px 1px 2px rgba(60, 64, 67, 0.3), 0px 1px 3px 1px rgba(60, 64, 67, 0.15);\n",
              "      fill: #174EA6;\n",
              "    }\n",
              "\n",
              "    [theme=dark] .colab-df-convert {\n",
              "      background-color: #3B4455;\n",
              "      fill: #D2E3FC;\n",
              "    }\n",
              "\n",
              "    [theme=dark] .colab-df-convert:hover {\n",
              "      background-color: #434B5C;\n",
              "      box-shadow: 0px 1px 3px 1px rgba(0, 0, 0, 0.15);\n",
              "      filter: drop-shadow(0px 1px 2px rgba(0, 0, 0, 0.3));\n",
              "      fill: #FFFFFF;\n",
              "    }\n",
              "  </style>\n",
              "\n",
              "      <script>\n",
              "        const buttonEl =\n",
              "          document.querySelector('#df-2841d8fd-ec6d-4ccc-8bc6-a411651bfa4e button.colab-df-convert');\n",
              "        buttonEl.style.display =\n",
              "          google.colab.kernel.accessAllowed ? 'block' : 'none';\n",
              "\n",
              "        async function convertToInteractive(key) {\n",
              "          const element = document.querySelector('#df-2841d8fd-ec6d-4ccc-8bc6-a411651bfa4e');\n",
              "          const dataTable =\n",
              "            await google.colab.kernel.invokeFunction('convertToInteractive',\n",
              "                                                     [key], {});\n",
              "          if (!dataTable) return;\n",
              "\n",
              "          const docLinkHtml = 'Like what you see? Visit the ' +\n",
              "            '<a target=\"_blank\" href=https://colab.research.google.com/notebooks/data_table.ipynb>data table notebook</a>'\n",
              "            + ' to learn more about interactive tables.';\n",
              "          element.innerHTML = '';\n",
              "          dataTable['output_type'] = 'display_data';\n",
              "          await google.colab.output.renderOutput(dataTable, element);\n",
              "          const docLink = document.createElement('div');\n",
              "          docLink.innerHTML = docLinkHtml;\n",
              "          element.appendChild(docLink);\n",
              "        }\n",
              "      </script>\n",
              "    </div>\n",
              "  </div>\n",
              "  "
            ]
          },
          "metadata": {},
          "execution_count": 39
        }
      ]
    },
    {
      "cell_type": "markdown",
      "source": [
        "**Yeni Korelasyon Haritası**"
      ],
      "metadata": {
        "id": "WVOOztqoWwbI"
      }
    },
    {
      "cell_type": "code",
      "source": [
        "corr = df3.corr()\n",
        "plt.figure(figsize=(20, 15))\n",
        "sns.heatmap(corr, annot=True)\n",
        "plt.plot()"
      ],
      "metadata": {
        "colab": {
          "base_uri": "https://localhost:8080/",
          "height": 962
        },
        "id": "EWjguBYGVcDG",
        "outputId": "37f2b103-b789-449c-fe9d-71f4a0a15fb2"
      },
      "execution_count": 40,
      "outputs": [
        {
          "output_type": "execute_result",
          "data": {
            "text/plain": [
              "[]"
            ]
          },
          "metadata": {},
          "execution_count": 40
        },
        {
          "output_type": "display_data",
          "data": {
            "text/plain": [
              "<Figure size 1440x1080 with 2 Axes>"
            ],
            "image/png": "[encoded data removed]"
          },
          "metadata": {
            "needs_background": "light"
          }
        }
      ]
    },
    {
      "cell_type": "markdown",
      "source": [
        "**Test ve Train Datasetlerini Ayırıyoruz.**"
      ],
      "metadata": {
        "id": "aMvAqIh6W2C6"
      }
    },
    {
      "cell_type": "code",
      "source": [
        "y = df3.charges\n",
        "x = df3.drop(columns='charges', axis=1)"
      ],
      "metadata": {
        "id": "GxU5m_CPXCIA"
      },
      "execution_count": 41,
      "outputs": []
    },
    {
      "cell_type": "code",
      "source": [
        "from sklearn.model_selection import train_test_split\n",
        "\n",
        "x_train, x_test, y_train, y_test = train_test_split(x, y, test_size = 0.2, random_state = 2)"
      ],
      "metadata": {
        "id": "GxyIO_DTWCOh"
      },
      "execution_count": 42,
      "outputs": []
    },
    {
      "cell_type": "code",
      "source": [
        "x_train"
      ],
      "metadata": {
        "colab": {
          "base_uri": "https://localhost:8080/",
          "height": 424
        },
        "id": "XMp4UsdRXF0j",
        "outputId": "1f7faab9-13ed-48a0-b9c1-fa4dbc9067c5"
      },
      "execution_count": 43,
      "outputs": [
        {
          "output_type": "execute_result",
          "data": {
            "text/plain": [
              "      age     bmi  children  sex_female  sex_male  smoker_no  smoker_yes  \\\n",
              "659    57  28.785         4           1         0          1           0   \n",
              "401    47  47.520         1           0         1          1           0   \n",
              "1001   24  32.700         0           0         1          0           1   \n",
              "1270   26  33.915         1           0         1          1           0   \n",
              "202    60  24.035         0           1         0          1           0   \n",
              "...   ...     ...       ...         ...       ...        ...         ...   \n",
              "467    56  33.820         2           1         0          1           0   \n",
              "300    36  27.550         3           0         1          1           0   \n",
              "494    21  25.700         4           0         1          0           1   \n",
              "528    46  39.425         1           0         1          1           0   \n",
              "1195   19  27.930         3           1         0          1           0   \n",
              "\n",
              "      region_northeast  region_northwest  region_southeast  region_southwest  \n",
              "659                  1                 0                 0                 0  \n",
              "401                  0                 0                 1                 0  \n",
              "1001                 0                 0                 0                 1  \n",
              "1270                 0                 1                 0                 0  \n",
              "202                  0                 1                 0                 0  \n",
              "...                ...               ...               ...               ...  \n",
              "467                  0                 1                 0                 0  \n",
              "300                  1                 0                 0                 0  \n",
              "494                  0                 0                 0                 1  \n",
              "528                  1                 0                 0                 0  \n",
              "1195                 0                 1                 0                 0  \n",
              "\n",
              "[1067 rows x 11 columns]"
            ],
            "text/html": [
              "\n",
              "  <div id=\"df-354b708b-21c4-4d1b-a725-2635c303420b\">\n",
              "    <div class=\"colab-df-container\">\n",
              "      <div>\n",
              "<style scoped>\n",
              "    .dataframe tbody tr th:only-of-type {\n",
              "        vertical-align: middle;\n",
              "    }\n",
              "\n",
              "    .dataframe tbody tr th {\n",
              "        vertical-align: top;\n",
              "    }\n",
              "\n",
              "    .dataframe thead th {\n",
              "        text-align: right;\n",
              "    }\n",
              "</style>\n",
              "<table border=\"1\" class=\"dataframe\">\n",
              "  <thead>\n",
              "    <tr style=\"text-align: right;\">\n",
              "      <th></th>\n",
              "      <th>age</th>\n",
              "      <th>bmi</th>\n",
              "      <th>children</th>\n",
              "      <th>sex_female</th>\n",
              "      <th>sex_male</th>\n",
              "      <th>smoker_no</th>\n",
              "      <th>smoker_yes</th>\n",
              "      <th>region_northeast</th>\n",
              "      <th>region_northwest</th>\n",
              "      <th>region_southeast</th>\n",
              "      <th>region_southwest</th>\n",
              "    </tr>\n",
              "  </thead>\n",
              "  <tbody>\n",
              "    <tr>\n",
              "      <th>659</th>\n",
              "      <td>57</td>\n",
              "      <td>28.785</td>\n",
              "      <td>4</td>\n",
              "      <td>1</td>\n",
              "      <td>0</td>\n",
              "      <td>1</td>\n",
              "      <td>0</td>\n",
              "      <td>1</td>\n",
              "      <td>0</td>\n",
              "      <td>0</td>\n",
              "      <td>0</td>\n",
              "    </tr>\n",
              "    <tr>\n",
              "      <th>401</th>\n",
              "      <td>47</td>\n",
              "      <td>47.520</td>\n",
              "      <td>1</td>\n",
              "      <td>0</td>\n",
              "      <td>1</td>\n",
              "      <td>1</td>\n",
              "      <td>0</td>\n",
              "      <td>0</td>\n",
              "      <td>0</td>\n",
              "      <td>1</td>\n",
              "      <td>0</td>\n",
              "    </tr>\n",
              "    <tr>\n",
              "      <th>1001</th>\n",
              "      <td>24</td>\n",
              "      <td>32.700</td>\n",
              "      <td>0</td>\n",
              "      <td>0</td>\n",
              "      <td>1</td>\n",
              "      <td>0</td>\n",
              "      <td>1</td>\n",
              "      <td>0</td>\n",
              "      <td>0</td>\n",
              "      <td>0</td>\n",
              "      <td>1</td>\n",
              "    </tr>\n",
              "    <tr>\n",
              "      <th>1270</th>\n",
              "      <td>26</td>\n",
              "      <td>33.915</td>\n",
              "      <td>1</td>\n",
              "      <td>0</td>\n",
              "      <td>1</td>\n",
              "      <td>1</td>\n",
              "      <td>0</td>\n",
              "      <td>0</td>\n",
              "      <td>1</td>\n",
              "      <td>0</td>\n",
              "      <td>0</td>\n",
              "    </tr>\n",
              "    <tr>\n",
              "      <th>202</th>\n",
              "      <td>60</td>\n",
              "      <td>24.035</td>\n",
              "      <td>0</td>\n",
              "      <td>1</td>\n",
              "      <td>0</td>\n",
              "      <td>1</td>\n",
              "      <td>0</td>\n",
              "      <td>0</td>\n",
              "      <td>1</td>\n",
              "      <td>0</td>\n",
              "      <td>0</td>\n",
              "    </tr>\n",
              "    <tr>\n",
              "      <th>...</th>\n",
              "      <td>...</td>\n",
              "      <td>...</td>\n",
              "      <td>...</td>\n",
              "      <td>...</td>\n",
              "      <td>...</td>\n",
              "      <td>...</td>\n",
              "      <td>...</td>\n",
              "      <td>...</td>\n",
              "      <td>...</td>\n",
              "      <td>...</td>\n",
              "      <td>...</td>\n",
              "    </tr>\n",
              "    <tr>\n",
              "      <th>467</th>\n",
              "      <td>56</td>\n",
              "      <td>33.820</td>\n",
              "      <td>2</td>\n",
              "      <td>1</td>\n",
              "      <td>0</td>\n",
              "      <td>1</td>\n",
              "      <td>0</td>\n",
              "      <td>0</td>\n",
              "      <td>1</td>\n",
              "      <td>0</td>\n",
              "      <td>0</td>\n",
              "    </tr>\n",
              "    <tr>\n",
              "      <th>300</th>\n",
              "      <td>36</td>\n",
              "      <td>27.550</td>\n",
              "      <td>3</td>\n",
              "      <td>0</td>\n",
              "      <td>1</td>\n",
              "      <td>1</td>\n",
              "      <td>0</td>\n",
              "      <td>1</td>\n",
              "      <td>0</td>\n",
              "      <td>0</td>\n",
              "      <td>0</td>\n",
              "    </tr>\n",
              "    <tr>\n",
              "      <th>494</th>\n",
              "      <td>21</td>\n",
              "      <td>25.700</td>\n",
              "      <td>4</td>\n",
              "      <td>0</td>\n",
              "      <td>1</td>\n",
              "      <td>0</td>\n",
              "      <td>1</td>\n",
              "      <td>0</td>\n",
              "      <td>0</td>\n",
              "      <td>0</td>\n",
              "      <td>1</td>\n",
              "    </tr>\n",
              "    <tr>\n",
              "      <th>528</th>\n",
              "      <td>46</td>\n",
              "      <td>39.425</td>\n",
              "      <td>1</td>\n",
              "      <td>0</td>\n",
              "      <td>1</td>\n",
              "      <td>1</td>\n",
              "      <td>0</td>\n",
              "      <td>1</td>\n",
              "      <td>0</td>\n",
              "      <td>0</td>\n",
              "      <td>0</td>\n",
              "    </tr>\n",
              "    <tr>\n",
              "      <th>1195</th>\n",
              "      <td>19</td>\n",
              "      <td>27.930</td>\n",
              "      <td>3</td>\n",
              "      <td>1</td>\n",
              "      <td>0</td>\n",
              "      <td>1</td>\n",
              "      <td>0</td>\n",
              "      <td>0</td>\n",
              "      <td>1</td>\n",
              "      <td>0</td>\n",
              "      <td>0</td>\n",
              "    </tr>\n",
              "  </tbody>\n",
              "</table>\n",
              "<p>1067 rows × 11 columns</p>\n",
              "</div>\n",
              "      <button class=\"colab-df-convert\" onclick=\"convertToInteractive('df-354b708b-21c4-4d1b-a725-2635c303420b')\"\n",
              "              title=\"Convert this dataframe to an interactive table.\"\n",
              "              style=\"display:none;\">\n",
              "        \n",
              "  <svg xmlns=\"http://www.w3.org/2000/svg\" height=\"24px\"viewBox=\"0 0 24 24\"\n",
              "       width=\"24px\">\n",
              "    <path d=\"M0 0h24v24H0V0z\" fill=\"none\"/>\n",
              "    <path d=\"M18.56 5.44l.94 2.06.94-2.06 2.06-.94-2.06-.94-.94-2.06-.94 2.06-2.06.94zm-11 1L8.5 8.5l.94-2.06 2.06-.94-2.06-.94L8.5 2.5l-.94 2.06-2.06.94zm10 10l.94 2.06.94-2.06 2.06-.94-2.06-.94-.94-2.06-.94 2.06-2.06.94z\"/><path d=\"M17.41 7.96l-1.37-1.37c-.4-.4-.92-.59-1.43-.59-.52 0-1.04.2-1.43.59L10.3 9.45l-7.72 7.72c-.78.78-.78 2.05 0 2.83L4 21.41c.39.39.9.59 1.41.59.51 0 1.02-.2 1.41-.59l7.78-7.78 2.81-2.81c.8-.78.8-2.07 0-2.86zM5.41 20L4 18.59l7.72-7.72 1.47 1.35L5.41 20z\"/>\n",
              "  </svg>\n",
              "      </button>\n",
              "      \n",
              "  <style>\n",
              "    .colab-df-container {\n",
              "      display:flex;\n",
              "      flex-wrap:wrap;\n",
              "      gap: 12px;\n",
              "    }\n",
              "\n",
              "    .colab-df-convert {\n",
              "      background-color: #E8F0FE;\n",
              "      border: none;\n",
              "      border-radius: 50%;\n",
              "      cursor: pointer;\n",
              "      display: none;\n",
              "      fill: #1967D2;\n",
              "      height: 32px;\n",
              "      padding: 0 0 0 0;\n",
              "      width: 32px;\n",
              "    }\n",
              "\n",
              "    .colab-df-convert:hover {\n",
              "      background-color: #E2EBFA;\n",
              "      box-shadow: 0px 1px 2px rgba(60, 64, 67, 0.3), 0px 1px 3px 1px rgba(60, 64, 67, 0.15);\n",
              "      fill: #174EA6;\n",
              "    }\n",
              "\n",
              "    [theme=dark] .colab-df-convert {\n",
              "      background-color: #3B4455;\n",
              "      fill: #D2E3FC;\n",
              "    }\n",
              "\n",
              "    [theme=dark] .colab-df-convert:hover {\n",
              "      background-color: #434B5C;\n",
              "      box-shadow: 0px 1px 3px 1px rgba(0, 0, 0, 0.15);\n",
              "      filter: drop-shadow(0px 1px 2px rgba(0, 0, 0, 0.3));\n",
              "      fill: #FFFFFF;\n",
              "    }\n",
              "  </style>\n",
              "\n",
              "      <script>\n",
              "        const buttonEl =\n",
              "          document.querySelector('#df-354b708b-21c4-4d1b-a725-2635c303420b button.colab-df-convert');\n",
              "        buttonEl.style.display =\n",
              "          google.colab.kernel.accessAllowed ? 'block' : 'none';\n",
              "\n",
              "        async function convertToInteractive(key) {\n",
              "          const element = document.querySelector('#df-354b708b-21c4-4d1b-a725-2635c303420b');\n",
              "          const dataTable =\n",
              "            await google.colab.kernel.invokeFunction('convertToInteractive',\n",
              "                                                     [key], {});\n",
              "          if (!dataTable) return;\n",
              "\n",
              "          const docLinkHtml = 'Like what you see? Visit the ' +\n",
              "            '<a target=\"_blank\" href=https://colab.research.google.com/notebooks/data_table.ipynb>data table notebook</a>'\n",
              "            + ' to learn more about interactive tables.';\n",
              "          element.innerHTML = '';\n",
              "          dataTable['output_type'] = 'display_data';\n",
              "          await google.colab.output.renderOutput(dataTable, element);\n",
              "          const docLink = document.createElement('div');\n",
              "          docLink.innerHTML = docLinkHtml;\n",
              "          element.appendChild(docLink);\n",
              "        }\n",
              "      </script>\n",
              "    </div>\n",
              "  </div>\n",
              "  "
            ]
          },
          "metadata": {},
          "execution_count": 43
        }
      ]
    },
    {
      "cell_type": "code",
      "source": [
        "y_train"
      ],
      "metadata": {
        "colab": {
          "base_uri": "https://localhost:8080/"
        },
        "id": "6D9dBLr0XHEO",
        "outputId": "aee88b58-aa5b-4ae6-93cc-b2a18a6928b4"
      },
      "execution_count": 44,
      "outputs": [
        {
          "output_type": "execute_result",
          "data": {
            "text/plain": [
              "659     14394.39815\n",
              "401      8083.91980\n",
              "1001    34472.84100\n",
              "1270     3292.52985\n",
              "202     13012.20865\n",
              "           ...     \n",
              "467     12643.37780\n",
              "300      6746.74250\n",
              "494     17942.10600\n",
              "528      8342.90875\n",
              "1195    18838.70366\n",
              "Name: charges, Length: 1067, dtype: float64"
            ]
          },
          "metadata": {},
          "execution_count": 44
        }
      ]
    },
    {
      "cell_type": "code",
      "source": [
        "x_test"
      ],
      "metadata": {
        "colab": {
          "base_uri": "https://localhost:8080/",
          "height": 424
        },
        "id": "5gcSWrwjXJHv",
        "outputId": "2ebc4ee9-1037-4d70-c512-7af0982861bd"
      },
      "execution_count": 45,
      "outputs": [
        {
          "output_type": "execute_result",
          "data": {
            "text/plain": [
              "      age     bmi  children  sex_female  sex_male  smoker_no  smoker_yes  \\\n",
              "17     23  23.845         0           0         1          1           0   \n",
              "1091   55  29.830         0           1         0          1           0   \n",
              "975    29  22.895         0           0         1          0           1   \n",
              "838    35  23.465         2           1         0          1           0   \n",
              "271    50  34.200         2           0         1          0           1   \n",
              "...   ...     ...       ...         ...       ...        ...         ...   \n",
              "233    59  27.500         1           0         1          1           0   \n",
              "660    37  46.530         3           0         1          1           0   \n",
              "461    42  30.000         0           0         1          0           1   \n",
              "472    19  29.800         0           1         0          1           0   \n",
              "1139   19  32.490         0           1         0          0           1   \n",
              "\n",
              "      region_northeast  region_northwest  region_southeast  region_southwest  \n",
              "17                   1                 0                 0                 0  \n",
              "1091                 1                 0                 0                 0  \n",
              "975                  1                 0                 0                 0  \n",
              "838                  1                 0                 0                 0  \n",
              "271                  0                 0                 0                 1  \n",
              "...                ...               ...               ...               ...  \n",
              "233                  0                 0                 0                 1  \n",
              "660                  0                 0                 1                 0  \n",
              "461                  0                 0                 0                 1  \n",
              "472                  0                 0                 0                 1  \n",
              "1139                 0                 1                 0                 0  \n",
              "\n",
              "[267 rows x 11 columns]"
            ],
            "text/html": [
              "\n",
              "  <div id=\"df-375ef32b-b031-414a-a994-368c132251a9\">\n",
              "    <div class=\"colab-df-container\">\n",
              "      <div>\n",
              "<style scoped>\n",
              "    .dataframe tbody tr th:only-of-type {\n",
              "        vertical-align: middle;\n",
              "    }\n",
              "\n",
              "    .dataframe tbody tr th {\n",
              "        vertical-align: top;\n",
              "    }\n",
              "\n",
              "    .dataframe thead th {\n",
              "        text-align: right;\n",
              "    }\n",
              "</style>\n",
              "<table border=\"1\" class=\"dataframe\">\n",
              "  <thead>\n",
              "    <tr style=\"text-align: right;\">\n",
              "      <th></th>\n",
              "      <th>age</th>\n",
              "      <th>bmi</th>\n",
              "      <th>children</th>\n",
              "      <th>sex_female</th>\n",
              "      <th>sex_male</th>\n",
              "      <th>smoker_no</th>\n",
              "      <th>smoker_yes</th>\n",
              "      <th>region_northeast</th>\n",
              "      <th>region_northwest</th>\n",
              "      <th>region_southeast</th>\n",
              "      <th>region_southwest</th>\n",
              "    </tr>\n",
              "  </thead>\n",
              "  <tbody>\n",
              "    <tr>\n",
              "      <th>17</th>\n",
              "      <td>23</td>\n",
              "      <td>23.845</td>\n",
              "      <td>0</td>\n",
              "      <td>0</td>\n",
              "      <td>1</td>\n",
              "      <td>1</td>\n",
              "      <td>0</td>\n",
              "      <td>1</td>\n",
              "      <td>0</td>\n",
              "      <td>0</td>\n",
              "      <td>0</td>\n",
              "    </tr>\n",
              "    <tr>\n",
              "      <th>1091</th>\n",
              "      <td>55</td>\n",
              "      <td>29.830</td>\n",
              "      <td>0</td>\n",
              "      <td>1</td>\n",
              "      <td>0</td>\n",
              "      <td>1</td>\n",
              "      <td>0</td>\n",
              "      <td>1</td>\n",
              "      <td>0</td>\n",
              "      <td>0</td>\n",
              "      <td>0</td>\n",
              "    </tr>\n",
              "    <tr>\n",
              "      <th>975</th>\n",
              "      <td>29</td>\n",
              "      <td>22.895</td>\n",
              "      <td>0</td>\n",
              "      <td>0</td>\n",
              "      <td>1</td>\n",
              "      <td>0</td>\n",
              "      <td>1</td>\n",
              "      <td>1</td>\n",
              "      <td>0</td>\n",
              "      <td>0</td>\n",
              "      <td>0</td>\n",
              "    </tr>\n",
              "    <tr>\n",
              "      <th>838</th>\n",
              "      <td>35</td>\n",
              "      <td>23.465</td>\n",
              "      <td>2</td>\n",
              "      <td>1</td>\n",
              "      <td>0</td>\n",
              "      <td>1</td>\n",
              "      <td>0</td>\n",
              "      <td>1</td>\n",
              "      <td>0</td>\n",
              "      <td>0</td>\n",
              "      <td>0</td>\n",
              "    </tr>\n",
              "    <tr>\n",
              "      <th>271</th>\n",
              "      <td>50</td>\n",
              "      <td>34.200</td>\n",
              "      <td>2</td>\n",
              "      <td>0</td>\n",
              "      <td>1</td>\n",
              "      <td>0</td>\n",
              "      <td>1</td>\n",
              "      <td>0</td>\n",
              "      <td>0</td>\n",
              "      <td>0</td>\n",
              "      <td>1</td>\n",
              "    </tr>\n",
              "    <tr>\n",
              "      <th>...</th>\n",
              "      <td>...</td>\n",
              "      <td>...</td>\n",
              "      <td>...</td>\n",
              "      <td>...</td>\n",
              "      <td>...</td>\n",
              "      <td>...</td>\n",
              "      <td>...</td>\n",
              "      <td>...</td>\n",
              "      <td>...</td>\n",
              "      <td>...</td>\n",
              "      <td>...</td>\n",
              "    </tr>\n",
              "    <tr>\n",
              "      <th>233</th>\n",
              "      <td>59</td>\n",
              "      <td>27.500</td>\n",
              "      <td>1</td>\n",
              "      <td>0</td>\n",
              "      <td>1</td>\n",
              "      <td>1</td>\n",
              "      <td>0</td>\n",
              "      <td>0</td>\n",
              "      <td>0</td>\n",
              "      <td>0</td>\n",
              "      <td>1</td>\n",
              "    </tr>\n",
              "    <tr>\n",
              "      <th>660</th>\n",
              "      <td>37</td>\n",
              "      <td>46.530</td>\n",
              "      <td>3</td>\n",
              "      <td>0</td>\n",
              "      <td>1</td>\n",
              "      <td>1</td>\n",
              "      <td>0</td>\n",
              "      <td>0</td>\n",
              "      <td>0</td>\n",
              "      <td>1</td>\n",
              "      <td>0</td>\n",
              "    </tr>\n",
              "    <tr>\n",
              "      <th>461</th>\n",
              "      <td>42</td>\n",
              "      <td>30.000</td>\n",
              "      <td>0</td>\n",
              "      <td>0</td>\n",
              "      <td>1</td>\n",
              "      <td>0</td>\n",
              "      <td>1</td>\n",
              "      <td>0</td>\n",
              "      <td>0</td>\n",
              "      <td>0</td>\n",
              "      <td>1</td>\n",
              "    </tr>\n",
              "    <tr>\n",
              "      <th>472</th>\n",
              "      <td>19</td>\n",
              "      <td>29.800</td>\n",
              "      <td>0</td>\n",
              "      <td>1</td>\n",
              "      <td>0</td>\n",
              "      <td>1</td>\n",
              "      <td>0</td>\n",
              "      <td>0</td>\n",
              "      <td>0</td>\n",
              "      <td>0</td>\n",
              "      <td>1</td>\n",
              "    </tr>\n",
              "    <tr>\n",
              "      <th>1139</th>\n",
              "      <td>19</td>\n",
              "      <td>32.490</td>\n",
              "      <td>0</td>\n",
              "      <td>1</td>\n",
              "      <td>0</td>\n",
              "      <td>0</td>\n",
              "      <td>1</td>\n",
              "      <td>0</td>\n",
              "      <td>1</td>\n",
              "      <td>0</td>\n",
              "      <td>0</td>\n",
              "    </tr>\n",
              "  </tbody>\n",
              "</table>\n",
              "<p>267 rows × 11 columns</p>\n",
              "</div>\n",
              "      <button class=\"colab-df-convert\" onclick=\"convertToInteractive('df-375ef32b-b031-414a-a994-368c132251a9')\"\n",
              "              title=\"Convert this dataframe to an interactive table.\"\n",
              "              style=\"display:none;\">\n",
              "        \n",
              "  <svg xmlns=\"http://www.w3.org/2000/svg\" height=\"24px\"viewBox=\"0 0 24 24\"\n",
              "       width=\"24px\">\n",
              "    <path d=\"M0 0h24v24H0V0z\" fill=\"none\"/>\n",
              "    <path d=\"M18.56 5.44l.94 2.06.94-2.06 2.06-.94-2.06-.94-.94-2.06-.94 2.06-2.06.94zm-11 1L8.5 8.5l.94-2.06 2.06-.94-2.06-.94L8.5 2.5l-.94 2.06-2.06.94zm10 10l.94 2.06.94-2.06 2.06-.94-2.06-.94-.94-2.06-.94 2.06-2.06.94z\"/><path d=\"M17.41 7.96l-1.37-1.37c-.4-.4-.92-.59-1.43-.59-.52 0-1.04.2-1.43.59L10.3 9.45l-7.72 7.72c-.78.78-.78 2.05 0 2.83L4 21.41c.39.39.9.59 1.41.59.51 0 1.02-.2 1.41-.59l7.78-7.78 2.81-2.81c.8-.78.8-2.07 0-2.86zM5.41 20L4 18.59l7.72-7.72 1.47 1.35L5.41 20z\"/>\n",
              "  </svg>\n",
              "      </button>\n",
              "      \n",
              "  <style>\n",
              "    .colab-df-container {\n",
              "      display:flex;\n",
              "      flex-wrap:wrap;\n",
              "      gap: 12px;\n",
              "    }\n",
              "\n",
              "    .colab-df-convert {\n",
              "      background-color: #E8F0FE;\n",
              "      border: none;\n",
              "      border-radius: 50%;\n",
              "      cursor: pointer;\n",
              "      display: none;\n",
              "      fill: #1967D2;\n",
              "      height: 32px;\n",
              "      padding: 0 0 0 0;\n",
              "      width: 32px;\n",
              "    }\n",
              "\n",
              "    .colab-df-convert:hover {\n",
              "      background-color: #E2EBFA;\n",
              "      box-shadow: 0px 1px 2px rgba(60, 64, 67, 0.3), 0px 1px 3px 1px rgba(60, 64, 67, 0.15);\n",
              "      fill: #174EA6;\n",
              "    }\n",
              "\n",
              "    [theme=dark] .colab-df-convert {\n",
              "      background-color: #3B4455;\n",
              "      fill: #D2E3FC;\n",
              "    }\n",
              "\n",
              "    [theme=dark] .colab-df-convert:hover {\n",
              "      background-color: #434B5C;\n",
              "      box-shadow: 0px 1px 3px 1px rgba(0, 0, 0, 0.15);\n",
              "      filter: drop-shadow(0px 1px 2px rgba(0, 0, 0, 0.3));\n",
              "      fill: #FFFFFF;\n",
              "    }\n",
              "  </style>\n",
              "\n",
              "      <script>\n",
              "        const buttonEl =\n",
              "          document.querySelector('#df-375ef32b-b031-414a-a994-368c132251a9 button.colab-df-convert');\n",
              "        buttonEl.style.display =\n",
              "          google.colab.kernel.accessAllowed ? 'block' : 'none';\n",
              "\n",
              "        async function convertToInteractive(key) {\n",
              "          const element = document.querySelector('#df-375ef32b-b031-414a-a994-368c132251a9');\n",
              "          const dataTable =\n",
              "            await google.colab.kernel.invokeFunction('convertToInteractive',\n",
              "                                                     [key], {});\n",
              "          if (!dataTable) return;\n",
              "\n",
              "          const docLinkHtml = 'Like what you see? Visit the ' +\n",
              "            '<a target=\"_blank\" href=https://colab.research.google.com/notebooks/data_table.ipynb>data table notebook</a>'\n",
              "            + ' to learn more about interactive tables.';\n",
              "          element.innerHTML = '';\n",
              "          dataTable['output_type'] = 'display_data';\n",
              "          await google.colab.output.renderOutput(dataTable, element);\n",
              "          const docLink = document.createElement('div');\n",
              "          docLink.innerHTML = docLinkHtml;\n",
              "          element.appendChild(docLink);\n",
              "        }\n",
              "      </script>\n",
              "    </div>\n",
              "  </div>\n",
              "  "
            ]
          },
          "metadata": {},
          "execution_count": 45
        }
      ]
    },
    {
      "cell_type": "code",
      "source": [
        "y_test"
      ],
      "metadata": {
        "colab": {
          "base_uri": "https://localhost:8080/"
        },
        "id": "Tby2ZXeSXK3j",
        "outputId": "285025fa-05f0-4034-bbd2-7c21bce4f58e"
      },
      "execution_count": 46,
      "outputs": [
        {
          "output_type": "execute_result",
          "data": {
            "text/plain": [
              "17       2395.17155\n",
              "1091    11286.53870\n",
              "975     16138.76205\n",
              "838      6402.29135\n",
              "271     42856.83800\n",
              "           ...     \n",
              "233     12333.82800\n",
              "660      6435.62370\n",
              "461     22144.03200\n",
              "472      1744.46500\n",
              "1139    36898.73308\n",
              "Name: charges, Length: 267, dtype: float64"
            ]
          },
          "metadata": {},
          "execution_count": 46
        }
      ]
    },
    {
      "cell_type": "code",
      "source": [
        "print(x.shape, x_train.shape, x_test.shape)"
      ],
      "metadata": {
        "colab": {
          "base_uri": "https://localhost:8080/"
        },
        "id": "vqDJPM2vXNRN",
        "outputId": "9a27f51f-477f-4fc0-a6ca-944fe65fa49b"
      },
      "execution_count": 47,
      "outputs": [
        {
          "output_type": "stream",
          "name": "stdout",
          "text": [
            "(1334, 11) (1067, 11) (267, 11)\n"
          ]
        }
      ]
    },
    {
      "cell_type": "markdown",
      "source": [
        "**Normalizayson İşlemi**"
      ],
      "metadata": {
        "id": "XBGq7io_X6Bb"
      }
    },
    {
      "cell_type": "code",
      "source": [
        "#normalizasyon ve standardizasyon\n",
        "from sklearn.preprocessing import MinMaxScaler\n",
        "from sklearn.preprocessing import StandardScaler\n",
        "from sklearn import preprocessing"
      ],
      "metadata": {
        "id": "erRxei6PYGYw"
      },
      "execution_count": 48,
      "outputs": []
    },
    {
      "cell_type": "code",
      "source": [
        "## X_train normalizasyon işlemi\n",
        "\n",
        "scale_x_train = preprocessing.MinMaxScaler()\n",
        "X_train_norm = scale_x_train.fit_transform(x_train)\n",
        "print(X_train_norm)"
      ],
      "metadata": {
        "colab": {
          "base_uri": "https://localhost:8080/"
        },
        "id": "NUXop06cXS3P",
        "outputId": "9b74780d-6fa1-4eb7-9be3-9cf1f6628072"
      },
      "execution_count": 49,
      "outputs": [
        {
          "output_type": "stream",
          "name": "stdout",
          "text": [
            "[[0.84782609 0.4035557  0.8        ... 0.         0.         0.        ]\n",
            " [0.63043478 0.99307741 0.2        ... 0.         1.         0.        ]\n",
            " [0.13043478 0.52674638 0.         ... 0.         0.         1.        ]\n",
            " ...\n",
            " [0.06521739 0.30648206 0.8        ... 0.         0.         1.        ]\n",
            " [0.60869565 0.73835746 0.2        ... 0.         0.         0.        ]\n",
            " [0.02173913 0.37665198 0.6        ... 1.         0.         0.        ]]\n"
          ]
        }
      ]
    },
    {
      "cell_type": "code",
      "source": [
        "## X_test'e normalizasyon işlemi uygulanması\n",
        "\n",
        "\n",
        "X_test_norm = scale_x_train.transform(x_test)\n",
        "print(X_test_norm)"
      ],
      "metadata": {
        "colab": {
          "base_uri": "https://localhost:8080/"
        },
        "id": "SsHMz2iSYHu2",
        "outputId": "be28ea48-c9fd-48a5-acc9-b9e3f7d2d1c4"
      },
      "execution_count": 50,
      "outputs": [
        {
          "output_type": "stream",
          "name": "stdout",
          "text": [
            "[[0.10869565 0.24811202 0.         ... 0.         0.         0.        ]\n",
            " [0.80434783 0.43643801 0.         ... 0.         0.         0.        ]\n",
            " [0.23913043 0.21821901 0.         ... 0.         0.         0.        ]\n",
            " ...\n",
            " [0.52173913 0.44178729 0.         ... 0.         0.         1.        ]\n",
            " [0.02173913 0.43549402 0.         ... 0.         0.         1.        ]\n",
            " [0.02173913 0.52013845 0.         ... 1.         0.         0.        ]]\n"
          ]
        }
      ]
    },
    {
      "cell_type": "code",
      "source": [
        "### y değerlerini reshape ediyoruz\n",
        "\n",
        "y_train1 = y_train.values.reshape(-1,1)\n",
        "y_test1 = y_test.values.reshape(-1,1)\n",
        "\n"
      ],
      "metadata": {
        "id": "p7dJ5f_oYaiY"
      },
      "execution_count": 51,
      "outputs": []
    },
    {
      "cell_type": "code",
      "source": [
        "### y_train'e normalizasyon işlemi uygulanması\n",
        "scale_y_train = preprocessing.MinMaxScaler()\n",
        "y_train_norm = scale_y_train.fit_transform(y_train1)\n",
        "print(y_train_norm)"
      ],
      "metadata": {
        "colab": {
          "base_uri": "https://localhost:8080/"
        },
        "id": "Gv_ij_YXYPPs",
        "outputId": "9d4c43f5-e401-429b-de95-f22b7dddcd56"
      },
      "execution_count": 52,
      "outputs": [
        {
          "output_type": "stream",
          "name": "stdout",
          "text": [
            "[[0.21185683]\n",
            " [0.1111286 ]\n",
            " [0.53235015]\n",
            " ...\n",
            " [0.26848556]\n",
            " [0.11526259]\n",
            " [0.28279711]]\n"
          ]
        }
      ]
    },
    {
      "cell_type": "code",
      "source": [
        "### y_test'e normalizasyon işlemi uygulanması\n",
        "y_test_norm = scale_y_train.transform(y_test1)\n",
        "print(y_test_norm)"
      ],
      "metadata": {
        "colab": {
          "base_uri": "https://localhost:8080/"
        },
        "id": "Q5Vk5wNLYYC5",
        "outputId": "d149c252-3f9b-4676-c233-8b0d2a665b35"
      },
      "execution_count": 53,
      "outputs": [
        {
          "output_type": "stream",
          "name": "stdout",
          "text": [
            "[[2.03244539e-02]\n",
            " [1.62248993e-01]\n",
            " [2.39700475e-01]\n",
            " [8.42863419e-02]\n",
            " [6.66176015e-01]\n",
            " [1.14083560e-01]\n",
            " [1.83372358e-01]\n",
            " [3.28600752e-02]\n",
            " [3.20421507e-01]\n",
            " [1.39635087e-01]\n",
            " [2.12834443e-01]\n",
            " [1.96467281e-01]\n",
            " [1.03942490e-01]\n",
            " [5.45006209e-02]\n",
            " [8.66940519e-03]\n",
            " [7.73816598e-02]\n",
            " [4.02757180e-02]\n",
            " [3.09765226e-02]\n",
            " [2.71929693e-01]\n",
            " [5.77251040e-02]\n",
            " [1.21492913e-01]\n",
            " [6.05470630e-02]\n",
            " [1.39533913e-01]\n",
            " [3.38550398e-01]\n",
            " [2.86024192e-01]\n",
            " [4.04561986e-01]\n",
            " [1.69322433e-01]\n",
            " [7.38756173e-01]\n",
            " [6.01303769e-01]\n",
            " [3.28011082e-02]\n",
            " [1.11644954e-01]\n",
            " [8.98140010e-02]\n",
            " [3.75835411e-01]\n",
            " [7.88354667e-03]\n",
            " [1.71786481e-01]\n",
            " [1.00984454e-01]\n",
            " [1.56620710e-02]\n",
            " [3.13682480e-01]\n",
            " [4.55086449e-02]\n",
            " [1.51312959e-01]\n",
            " [1.58896716e-02]\n",
            " [2.21338837e-01]\n",
            " [1.05502087e-01]\n",
            " [6.58324212e-03]\n",
            " [2.08357722e-03]\n",
            " [6.78625454e-02]\n",
            " [6.90814547e-01]\n",
            " [1.71038043e-01]\n",
            " [2.74369750e-01]\n",
            " [3.11394411e-01]\n",
            " [2.04566455e-01]\n",
            " [3.08724184e-01]\n",
            " [1.39400783e-01]\n",
            " [6.47097586e-01]\n",
            " [1.91396770e-01]\n",
            " [1.05785083e-01]\n",
            " [1.35316786e-02]\n",
            " [2.41205583e-02]\n",
            " [1.53757738e-04]\n",
            " [6.83033577e-02]\n",
            " [2.14329751e-02]\n",
            " [2.69951865e-01]\n",
            " [1.35742097e-01]\n",
            " [4.13673397e-01]\n",
            " [8.18624017e-02]\n",
            " [1.19805913e-01]\n",
            " [5.78653259e-02]\n",
            " [2.13547818e-02]\n",
            " [6.52481930e-02]\n",
            " [2.05581964e-01]\n",
            " [5.14800301e-02]\n",
            " [1.45408400e-01]\n",
            " [9.93840670e-02]\n",
            " [5.82386207e-01]\n",
            " [8.44760773e-02]\n",
            " [7.00528244e-01]\n",
            " [1.25402913e-01]\n",
            " [7.32178606e-02]\n",
            " [5.68970003e-02]\n",
            " [4.65882157e-02]\n",
            " [1.10235491e-01]\n",
            " [2.11145823e-01]\n",
            " [1.71122355e-01]\n",
            " [1.57296078e-01]\n",
            " [1.35610289e-01]\n",
            " [1.72645317e-02]\n",
            " [5.58715206e-01]\n",
            " [2.31856907e-04]\n",
            " [2.24417749e-02]\n",
            " [1.28058679e-01]\n",
            " [6.96965503e-02]\n",
            " [6.87462602e-02]\n",
            " [1.52928805e-01]\n",
            " [1.50924682e-01]\n",
            " [5.49464804e-02]\n",
            " [6.06613495e-01]\n",
            " [7.24733582e-02]\n",
            " [3.66134648e-01]\n",
            " [1.44870036e-01]\n",
            " [2.90964337e-01]\n",
            " [3.62575399e-02]\n",
            " [2.73344243e-01]\n",
            " [6.05367700e-01]\n",
            " [6.92142478e-02]\n",
            " [1.33800955e-01]\n",
            " [2.03773172e-01]\n",
            " [3.44460408e-02]\n",
            " [4.36515184e-01]\n",
            " [1.93252234e-01]\n",
            " [3.62417191e-02]\n",
            " [6.61444739e-01]\n",
            " [9.01588022e-02]\n",
            " [5.71894808e-01]\n",
            " [6.86871311e-02]\n",
            " [1.72223759e-02]\n",
            " [2.56707273e-02]\n",
            " [6.06724617e-02]\n",
            " [2.96119553e-01]\n",
            " [9.27614122e-02]\n",
            " [1.31518644e-01]\n",
            " [5.13317721e-02]\n",
            " [1.35652880e-01]\n",
            " [8.10374313e-02]\n",
            " [9.63862053e-02]\n",
            " [1.28530688e-01]\n",
            " [1.47123231e-01]\n",
            " [6.08466846e-01]\n",
            " [3.91624383e-01]\n",
            " [1.74900653e-02]\n",
            " [6.32076473e-01]\n",
            " [2.33680852e-02]\n",
            " [1.25177456e-01]\n",
            " [1.78807991e-01]\n",
            " [6.19473004e-02]\n",
            " [9.83204128e-02]\n",
            " [4.88953663e-02]\n",
            " [3.68810800e-01]\n",
            " [1.46904142e-01]\n",
            " [5.65972160e-02]\n",
            " [1.42863331e-01]\n",
            " [2.87679466e-01]\n",
            " [1.72651743e-01]\n",
            " [3.88683895e-02]\n",
            " [1.30614794e-01]\n",
            " [1.77540524e-01]\n",
            " [1.95884522e-01]\n",
            " [1.37316116e-01]\n",
            " [1.23121613e-01]\n",
            " [9.55297067e-03]\n",
            " [4.34460385e-01]\n",
            " [4.83309175e-02]\n",
            " [5.39962741e-02]\n",
            " [4.60273767e-02]\n",
            " [1.39325771e-01]\n",
            " [7.27810721e-01]\n",
            " [1.97115261e-01]\n",
            " [7.32226077e-02]\n",
            " [9.37055704e-03]\n",
            " [1.74104781e-01]\n",
            " [1.68184332e-01]\n",
            " [1.61025584e-02]\n",
            " [6.79278869e-02]\n",
            " [1.38534950e-01]\n",
            " [3.64661395e-01]\n",
            " [8.82806472e-02]\n",
            " [1.16621932e-01]\n",
            " [5.78540104e-02]\n",
            " [6.16227152e-01]\n",
            " [1.40282343e-01]\n",
            " [8.57962674e-02]\n",
            " [3.27180895e-02]\n",
            " [5.04597638e-01]\n",
            " [1.02095755e-01]\n",
            " [6.95333350e-02]\n",
            " [3.49947298e-01]\n",
            " [1.14317192e-01]\n",
            " [1.96070230e-01]\n",
            " [3.22800312e-01]\n",
            " [2.11859383e-01]\n",
            " [1.20682035e-02]\n",
            " [1.03379521e-02]\n",
            " [1.58801129e-01]\n",
            " [3.26799376e-01]\n",
            " [5.28670142e-02]\n",
            " [9.74697954e-02]\n",
            " [4.47968973e-01]\n",
            " [3.42701086e-02]\n",
            " [3.21436054e-01]\n",
            " [3.92048170e-02]\n",
            " [1.39759551e-01]\n",
            " [5.96817515e-01]\n",
            " [1.77875342e-01]\n",
            " [7.65896399e-02]\n",
            " [1.57917464e-01]\n",
            " [2.84932691e-01]\n",
            " [7.59054131e-01]\n",
            " [5.99552089e-02]\n",
            " [1.19083808e-01]\n",
            " [7.98117063e-03]\n",
            " [2.67885722e-01]\n",
            " [7.46624054e-01]\n",
            " [8.40802158e-02]\n",
            " [1.48998012e-02]\n",
            " [6.60764739e-02]\n",
            " [8.28443397e-02]\n",
            " [6.82769188e-01]\n",
            " [6.93891944e-02]\n",
            " [6.52491453e-01]\n",
            " [1.60315651e-01]\n",
            " [5.63072885e-01]\n",
            " [1.14186690e-02]\n",
            " [2.97333430e-01]\n",
            " [6.01316815e-02]\n",
            " [3.40633078e-01]\n",
            " [2.09650791e-01]\n",
            " [6.82496645e-02]\n",
            " [2.88563246e-01]\n",
            " [1.97114374e-01]\n",
            " [2.73547288e-01]\n",
            " [8.51730671e-02]\n",
            " [2.23675649e-02]\n",
            " [9.06259399e-02]\n",
            " [5.81091639e-02]\n",
            " [2.34623533e-01]\n",
            " [7.57037495e-01]\n",
            " [2.93703415e-01]\n",
            " [1.32661504e-01]\n",
            " [1.54354498e-01]\n",
            " [1.58212555e-01]\n",
            " [5.31151620e-02]\n",
            " [1.88226507e-01]\n",
            " [1.09063061e-01]\n",
            " [4.18219707e-01]\n",
            " [3.53127325e-01]\n",
            " [2.21838897e-01]\n",
            " [1.49087327e-01]\n",
            " [1.47389947e-01]\n",
            " [2.21628508e-01]\n",
            " [1.05644307e-01]\n",
            " [3.66888574e-01]\n",
            " [1.61576004e-01]\n",
            " [1.30260096e-01]\n",
            " [1.88420326e-02]\n",
            " [5.28857847e-01]\n",
            " [9.05845224e-02]\n",
            " [6.20310438e-01]\n",
            " [2.46708098e-01]\n",
            " [1.46014321e-01]\n",
            " [1.00522735e-01]\n",
            " [9.63824335e-02]\n",
            " [1.72687473e-02]\n",
            " [1.00507477e-01]\n",
            " [3.73372023e-01]\n",
            " [2.09313659e-01]\n",
            " [2.78412986e-02]\n",
            " [1.66500732e-01]\n",
            " [1.63965343e-01]\n",
            " [6.58302998e-02]\n",
            " [2.10798321e-03]\n",
            " [1.19437868e-01]\n",
            " [1.81918787e-02]\n",
            " [6.94658067e-01]\n",
            " [1.78965888e-01]\n",
            " [8.48183949e-02]\n",
            " [3.35556956e-01]\n",
            " [9.93783670e-03]\n",
            " [5.71072384e-01]]\n"
          ]
        }
      ]
    },
    {
      "cell_type": "markdown",
      "source": [
        "**MODEL SEÇME**"
      ],
      "metadata": {
        "id": "dp6cjcgPY0B4"
      }
    },
    {
      "cell_type": "markdown",
      "source": [
        "**XGBOOST**"
      ],
      "metadata": {
        "id": "GHyM9p0uZnP_"
      }
    },
    {
      "cell_type": "code",
      "source": [
        "from xgboost import XGBRegressor"
      ],
      "metadata": {
        "id": "zoU8VsTfYzKm"
      },
      "execution_count": 54,
      "outputs": []
    },
    {
      "cell_type": "code",
      "source": [
        "#modeli oluşturuyoruz.\n",
        "model_norm = XGBRegressor(random_state=1)\n",
        "model_norm.fit(X_train_norm,y_train_norm)"
      ],
      "metadata": {
        "colab": {
          "base_uri": "https://localhost:8080/"
        },
        "id": "9Yn2rXrSYlir",
        "outputId": "02e03a11-030f-405b-f025-6de3c0f06d4e"
      },
      "execution_count": 55,
      "outputs": [
        {
          "output_type": "stream",
          "name": "stdout",
          "text": [
            "[01:34:08] WARNING: /workspace/src/objective/regression_obj.cu:152: reg:linear is now deprecated in favor of reg:squarederror.\n"
          ]
        },
        {
          "output_type": "execute_result",
          "data": {
            "text/plain": [
              "XGBRegressor(random_state=1)"
            ]
          },
          "metadata": {},
          "execution_count": 55
        }
      ]
    },
    {
      "cell_type": "code",
      "source": [
        "#tahmin yapalım\n",
        "yhat_norm = model_norm.predict(X_test_norm)"
      ],
      "metadata": {
        "id": "rYVzTbmHYu7c"
      },
      "execution_count": 56,
      "outputs": []
    },
    {
      "cell_type": "code",
      "source": [
        "#tahmin yapalım\n",
        "yhat_norm = model_norm.predict(X_test_norm)"
      ],
      "metadata": {
        "id": "qn83mChZY7fy"
      },
      "execution_count": 57,
      "outputs": []
    },
    {
      "cell_type": "code",
      "source": [
        "yhat_norm1  = yhat_norm.reshape(-1,1)"
      ],
      "metadata": {
        "id": "KWo5Bxp_Y816"
      },
      "execution_count": 58,
      "outputs": []
    },
    {
      "cell_type": "code",
      "source": [
        "yhat_norm_reel = scale_y_train.inverse_transform(yhat_norm1)"
      ],
      "metadata": {
        "id": "sjw5cjqiY-dT"
      },
      "execution_count": 59,
      "outputs": []
    },
    {
      "cell_type": "code",
      "source": [
        "yhat_norm_reel"
      ],
      "metadata": {
        "colab": {
          "base_uri": "https://localhost:8080/"
        },
        "id": "eepJ_y7RZAUP",
        "outputId": "7eaf46ba-9537-415c-8cad-4296c956d48c"
      },
      "execution_count": 60,
      "outputs": [
        {
          "output_type": "execute_result",
          "data": {
            "text/plain": [
              "array([[ 4724.4443],\n",
              "       [12093.978 ],\n",
              "       [18976.057 ],\n",
              "       [ 8668.684 ],\n",
              "       [42287.617 ],\n",
              "       [10306.662 ],\n",
              "       [ 4809.4165],\n",
              "       [ 4947.6714],\n",
              "       [21829.28  ],\n",
              "       [12048.994 ],\n",
              "       [16402.33  ],\n",
              "       [13393.751 ],\n",
              "       [ 8883.881 ],\n",
              "       [ 5744.4966],\n",
              "       [ 2247.7969],\n",
              "       [ 6697.938 ],\n",
              "       [ 5112.8364],\n",
              "       [ 3454.5513],\n",
              "       [ 7096.4517],\n",
              "       [ 6961.5273],\n",
              "       [10146.474 ],\n",
              "       [ 8553.665 ],\n",
              "       [12484.49  ],\n",
              "       [21642.717 ],\n",
              "       [19960.316 ],\n",
              "       [13802.203 ],\n",
              "       [13962.538 ],\n",
              "       [48687.137 ],\n",
              "       [37120.613 ],\n",
              "       [ 4195.3945],\n",
              "       [ 9328.261 ],\n",
              "       [ 8650.622 ],\n",
              "       [24917.44  ],\n",
              "       [ 2174.5815],\n",
              "       [ 3738.4824],\n",
              "       [ 9967.146 ],\n",
              "       [ 2529.6035],\n",
              "       [21554.22  ],\n",
              "       [ 3876.9185],\n",
              "       [11747.548 ],\n",
              "       [ 2146.962 ],\n",
              "       [18676.414 ],\n",
              "       [ 9329.233 ],\n",
              "       [ 2701.4172],\n",
              "       [ 4381.521 ],\n",
              "       [ 6304.486 ],\n",
              "       [48782.758 ],\n",
              "       [12413.065 ],\n",
              "       [20977.475 ],\n",
              "       [11895.226 ],\n",
              "       [17448.133 ],\n",
              "       [14132.177 ],\n",
              "       [ 9587.621 ],\n",
              "       [43518.734 ],\n",
              "       [16912.494 ],\n",
              "       [ 7835.9937],\n",
              "       [ 3863.8472],\n",
              "       [ 4272.5977],\n",
              "       [ 2209.6396],\n",
              "       [ 5687.822 ],\n",
              "       [ 4402.8296],\n",
              "       [21047.61  ],\n",
              "       [12081.787 ],\n",
              "       [26990.188 ],\n",
              "       [ 8940.822 ],\n",
              "       [ 9566.656 ],\n",
              "       [ 8222.532 ],\n",
              "       [ 4017.0515],\n",
              "       [ 7797.1245],\n",
              "       [16042.995 ],\n",
              "       [ 5210.109 ],\n",
              "       [12146.944 ],\n",
              "       [ 9216.815 ],\n",
              "       [39533.418 ],\n",
              "       [ 6949.0234],\n",
              "       [45467.168 ],\n",
              "       [ 9973.887 ],\n",
              "       [ 7918.942 ],\n",
              "       [ 5509.61  ],\n",
              "       [ 7435.9414],\n",
              "       [ 8951.129 ],\n",
              "       [16803.863 ],\n",
              "       [11844.677 ],\n",
              "       [11919.271 ],\n",
              "       [11654.954 ],\n",
              "       [ 3686.6208],\n",
              "       [35701.58  ],\n",
              "       [ 2337.3865],\n",
              "       [ 1412.6443],\n",
              "       [12213.449 ],\n",
              "       [ 6465.271 ],\n",
              "       [ 8292.026 ],\n",
              "       [10457.539 ],\n",
              "       [11730.343 ],\n",
              "       [ 8455.07  ],\n",
              "       [39795.29  ],\n",
              "       [ 6208.326 ],\n",
              "       [ 7536.722 ],\n",
              "       [12533.145 ],\n",
              "       [21745.596 ],\n",
              "       [ 9839.641 ],\n",
              "       [20928.625 ],\n",
              "       [39428.266 ],\n",
              "       [ 5467.737 ],\n",
              "       [14082.74  ],\n",
              "       [14647.63  ],\n",
              "       [ 5985.334 ],\n",
              "       [10076.443 ],\n",
              "       [15170.2295],\n",
              "       [ 5568.589 ],\n",
              "       [45222.574 ],\n",
              "       [ 7212.951 ],\n",
              "       [40463.848 ],\n",
              "       [ 6286.788 ],\n",
              "       [ 3360.4844],\n",
              "       [ 4278.5557],\n",
              "       [ 6233.035 ],\n",
              "       [ 3607.2964],\n",
              "       [ 6575.6445],\n",
              "       [19859.752 ],\n",
              "       [ 7402.642 ],\n",
              "       [10699.    ],\n",
              "       [ 7848.0063],\n",
              "       [ 7736.148 ],\n",
              "       [10011.553 ],\n",
              "       [12040.231 ],\n",
              "       [43721.297 ],\n",
              "       [10735.497 ],\n",
              "       [ 3890.9028],\n",
              "       [42326.586 ],\n",
              "       [ 2771.41  ],\n",
              "       [11303.899 ],\n",
              "       [15299.074 ],\n",
              "       [ 6304.6206],\n",
              "       [ 7690.2046],\n",
              "       [ 6317.951 ],\n",
              "       [11754.247 ],\n",
              "       [12836.849 ],\n",
              "       [ 7359.219 ],\n",
              "       [12268.322 ],\n",
              "       [10755.15  ],\n",
              "       [12345.7   ],\n",
              "       [ 3810.8464],\n",
              "       [11384.38  ],\n",
              "       [14477.272 ],\n",
              "       [14314.4   ],\n",
              "       [13265.519 ],\n",
              "       [10011.553 ],\n",
              "       [ 3603.579 ],\n",
              "       [ 8869.103 ],\n",
              "       [ 5105.019 ],\n",
              "       [ 8219.145 ],\n",
              "       [ 4145.0767],\n",
              "       [12050.952 ],\n",
              "       [46089.918 ],\n",
              "       [14103.776 ],\n",
              "       [ 6096.916 ],\n",
              "       [ 2278.7942],\n",
              "       [11898.479 ],\n",
              "       [11996.027 ],\n",
              "       [ 2634.447 ],\n",
              "       [ 6275.744 ],\n",
              "       [ 9747.735 ],\n",
              "       [24352.    ],\n",
              "       [ 5757.856 ],\n",
              "       [ 9171.929 ],\n",
              "       [ 6965.536 ],\n",
              "       [42181.754 ],\n",
              "       [10350.562 ],\n",
              "       [ 7750.9165],\n",
              "       [ 4212.6143],\n",
              "       [16113.184 ],\n",
              "       [ 9262.659 ],\n",
              "       [ 6347.048 ],\n",
              "       [11854.566 ],\n",
              "       [10000.005 ],\n",
              "       [16259.383 ],\n",
              "       [ 3686.6208],\n",
              "       [15369.463 ],\n",
              "       [ 3173.2524],\n",
              "       [ 2719.356 ],\n",
              "       [12413.065 ],\n",
              "       [ 2282.0652],\n",
              "       [ 6682.5254],\n",
              "       [ 7775.4775],\n",
              "       [13539.295 ],\n",
              "       [ 5575.616 ],\n",
              "       [23827.928 ],\n",
              "       [ 5890.601 ],\n",
              "       [11779.456 ],\n",
              "       [39583.242 ],\n",
              "       [14787.924 ],\n",
              "       [ 6740.427 ],\n",
              "       [11193.016 ],\n",
              "       [19204.127 ],\n",
              "       [47683.13  ],\n",
              "       [ 7867.566 ],\n",
              "       [ 9012.136 ],\n",
              "       [ 2765.4446],\n",
              "       [18704.525 ],\n",
              "       [49630.566 ],\n",
              "       [ 7207.036 ],\n",
              "       [ 2273.5906],\n",
              "       [ 8040.309 ],\n",
              "       [ 7014.672 ],\n",
              "       [43760.28  ],\n",
              "       [ 6654.09  ],\n",
              "       [44428.336 ],\n",
              "       [12996.169 ],\n",
              "       [35406.06  ],\n",
              "       [ 3738.7832],\n",
              "       [10589.468 ],\n",
              "       [ 5741.558 ],\n",
              "       [27651.35  ],\n",
              "       [14736.912 ],\n",
              "       [ 7141.2817],\n",
              "       [18538.736 ],\n",
              "       [14103.776 ],\n",
              "       [17876.648 ],\n",
              "       [ 7519.47  ],\n",
              "       [ 3982.434 ],\n",
              "       [10410.095 ],\n",
              "       [ 6325.5596],\n",
              "       [16859.666 ],\n",
              "       [48185.676 ],\n",
              "       [21329.678 ],\n",
              "       [10666.15  ],\n",
              "       [12367.314 ],\n",
              "       [12459.664 ],\n",
              "       [ 5678.6245],\n",
              "       [17531.459 ],\n",
              "       [ 7246.863 ],\n",
              "       [13016.965 ],\n",
              "       [25056.686 ],\n",
              "       [17489.312 ],\n",
              "       [12985.03  ],\n",
              "       [12545.691 ],\n",
              "       [16402.33  ],\n",
              "       [ 8588.768 ],\n",
              "       [24024.975 ],\n",
              "       [14591.432 ],\n",
              "       [11163.382 ],\n",
              "       [ 2285.8198],\n",
              "       [35796.453 ],\n",
              "       [ 7564.816 ],\n",
              "       [39150.297 ],\n",
              "       [18624.062 ],\n",
              "       [10555.604 ],\n",
              "       [ 8528.067 ],\n",
              "       [ 7553.5986],\n",
              "       [ 3686.6208],\n",
              "       [ 7448.8447],\n",
              "       [14604.286 ],\n",
              "       [16811.455 ],\n",
              "       [ 4942.567 ],\n",
              "       [10391.704 ],\n",
              "       [15059.17  ],\n",
              "       [ 6877.931 ],\n",
              "       [ 2490.3071],\n",
              "       [10277.475 ],\n",
              "       [ 2634.447 ],\n",
              "       [46120.574 ],\n",
              "       [16333.19  ],\n",
              "       [ 6668.018 ],\n",
              "       [37548.53  ],\n",
              "       [ 3121.7847],\n",
              "       [34176.434 ]], dtype=float32)"
            ]
          },
          "metadata": {},
          "execution_count": 60
        }
      ]
    },
    {
      "cell_type": "code",
      "source": [
        "from sklearn.metrics import mean_absolute_error\n",
        "from sklearn.metrics import mean_squared_error\n",
        "from sklearn.metrics import r2_score\n",
        "mae_model_norm = mean_absolute_error(y_test,np.squeeze(yhat_norm_reel))\n",
        "mse_model_norm = mean_squared_error(y_test,np.squeeze(yhat_norm_reel))\n",
        "rmse_model_norm = np.sqrt(mse_model_norm)\n",
        "\n",
        "\n",
        "print(\"MAE: \", mae_model_norm)\n",
        "print(\"MSE: \", mse_model_norm)\n",
        "print(\"RMSE: \", rmse_model_norm)"
      ],
      "metadata": {
        "colab": {
          "base_uri": "https://localhost:8080/"
        },
        "id": "jmzXS4jXZBQ8",
        "outputId": "e551f31e-e5f1-4a03-d59e-75fb5a1d5e6f"
      },
      "execution_count": 61,
      "outputs": [
        {
          "output_type": "stream",
          "name": "stdout",
          "text": [
            "MAE:  2538.711637245143\n",
            "MSE:  19364867.841016725\n",
            "RMSE:  4400.553128984665\n"
          ]
        }
      ]
    },
    {
      "cell_type": "code",
      "source": [
        "plt.figure(figsize=(6,6))\n",
        "plt.scatter(y_test, yhat_norm_reel)\n",
        "plt.plot(y_test,y_test, color=\"red\")\n",
        "plt.xlabel('test verileri')\n",
        "plt.ylabel(\"tahmin edilen değer\")\n",
        "plt.axis('equal')"
      ],
      "metadata": {
        "colab": {
          "base_uri": "https://localhost:8080/",
          "height": 405
        },
        "id": "eNNfC2dAZMZ9",
        "outputId": "76e74358-67d7-4cde-fb05-016af9668383"
      },
      "execution_count": 62,
      "outputs": [
        {
          "output_type": "execute_result",
          "data": {
            "text/plain": [
              "(-1245.693955, 51052.718255, -1293.4463903125, 52055.5193965625)"
            ]
          },
          "metadata": {},
          "execution_count": 62
        },
        {
          "output_type": "display_data",
          "data": {
            "text/plain": [
              "<Figure size 432x432 with 1 Axes>"
            ],
            "image/png": "[encoded data removed]"
          },
          "metadata": {
            "needs_background": "light"
          }
        }
      ]
    },
    {
      "cell_type": "markdown",
      "source": [
        "**RANDOM FOREST**"
      ],
      "metadata": {
        "id": "We9BBsweZwDi"
      }
    },
    {
      "cell_type": "code",
      "source": [
        "from sklearn.ensemble import RandomForestRegressor\n",
        "\n",
        "rf = RandomForestRegressor(n_estimators = 100, random_state = 0,)\n",
        "rf = rf.fit(X_train_norm, y_train_norm)\n"
      ],
      "metadata": {
        "colab": {
          "base_uri": "https://localhost:8080/"
        },
        "id": "oBFFdfiKZr6P",
        "outputId": "98f03d84-a7fb-4ce4-aa0d-0ea7d3058b7a"
      },
      "execution_count": 63,
      "outputs": [
        {
          "output_type": "stream",
          "name": "stderr",
          "text": [
            "/usr/local/lib/python3.7/dist-packages/ipykernel_launcher.py:4: DataConversionWarning: A column-vector y was passed when a 1d array was expected. Please change the shape of y to (n_samples,), for example using ravel().\n",
            "  after removing the cwd from sys.path.\n"
          ]
        }
      ]
    },
    {
      "cell_type": "code",
      "source": [
        "from sklearn.inspection import permutation_importance\n",
        "rf.feature_importances_\n"
      ],
      "metadata": {
        "colab": {
          "base_uri": "https://localhost:8080/"
        },
        "id": "kSyMSc5JZgLH",
        "outputId": "c0dba0ca-f1dd-444d-8326-4fc609e6fd94"
      },
      "execution_count": 64,
      "outputs": [
        {
          "output_type": "execute_result",
          "data": {
            "text/plain": [
              "array([0.13113868, 0.1997349 , 0.02053218, 0.00377217, 0.0033794 ,\n",
              "       0.29326743, 0.3309317 , 0.00558352, 0.00468154, 0.00360019,\n",
              "       0.00337828])"
            ]
          },
          "metadata": {},
          "execution_count": 64
        }
      ]
    },
    {
      "cell_type": "code",
      "source": [
        "#Random Forest için hiper-parametreler\n",
        "plt.barh(x_train.columns, rf.feature_importances_)"
      ],
      "metadata": {
        "colab": {
          "base_uri": "https://localhost:8080/",
          "height": 282
        },
        "id": "3W0ddr_cZ69x",
        "outputId": "9f07202e-acb8-4223-ec73-7d1e00e061ae"
      },
      "execution_count": 65,
      "outputs": [
        {
          "output_type": "execute_result",
          "data": {
            "text/plain": [
              "<BarContainer object of 11 artists>"
            ]
          },
          "metadata": {},
          "execution_count": 65
        },
        {
          "output_type": "display_data",
          "data": {
            "text/plain": [
              "<Figure size 432x288 with 1 Axes>"
            ],
            "image/png": "[encoded data removed]"
          },
          "metadata": {
            "needs_background": "light"
          }
        }
      ]
    },
    {
      "cell_type": "code",
      "source": [
        "rf_acc = rf.score(X_test_norm,y_test_norm)*100\n",
        "print(\"Random Forest Regressor Accuracy - \",rf_acc)"
      ],
      "metadata": {
        "colab": {
          "base_uri": "https://localhost:8080/"
        },
        "id": "YbMFzI5hZ8NH",
        "outputId": "6bae813f-5374-4554-d8e8-3fd3d39e2bfa"
      },
      "execution_count": 66,
      "outputs": [
        {
          "output_type": "stream",
          "name": "stdout",
          "text": [
            "Random Forest Regressor Accuracy -  84.06068180345308\n"
          ]
        }
      ]
    },
    {
      "cell_type": "code",
      "source": [
        "y_pred_rd = rf.predict(X_test_norm)"
      ],
      "metadata": {
        "id": "Gc1GvcLGaH37"
      },
      "execution_count": 67,
      "outputs": []
    },
    {
      "cell_type": "code",
      "source": [
        "errors(y_test_norm,y_pred_rd)\n",
        "r2(y_test_norm,y_pred_rd)"
      ],
      "metadata": {
        "colab": {
          "base_uri": "https://localhost:8080/"
        },
        "id": "NZ15EnOXaNAT",
        "outputId": "746ef6f7-db73-4c2d-d915-6c983fe448b9"
      },
      "execution_count": 68,
      "outputs": [
        {
          "output_type": "stream",
          "name": "stdout",
          "text": [
            "mae: 0.042692306413016336 \n",
            "mse: 0.005450041312674352 \n",
            "rmse: 0.07382439510537389\n"
          ]
        },
        {
          "output_type": "execute_result",
          "data": {
            "text/plain": [
              "0.8406068180345307"
            ]
          },
          "metadata": {},
          "execution_count": 68
        }
      ]
    },
    {
      "cell_type": "markdown",
      "source": [
        "**XGBOOST**"
      ],
      "metadata": {
        "id": "uxCw_JxWar43"
      }
    },
    {
      "cell_type": "code",
      "source": [
        "from xgboost import XGBRegressor\n",
        "xgbr = XGBRegressor()\n",
        "xgbr.fit(X_train_norm, y_train_norm)"
      ],
      "metadata": {
        "colab": {
          "base_uri": "https://localhost:8080/"
        },
        "id": "rPMj1gj0aTy9",
        "outputId": "96c5c637-7126-4b95-f8b8-5dc1a6b842dc"
      },
      "execution_count": 69,
      "outputs": [
        {
          "output_type": "stream",
          "name": "stdout",
          "text": [
            "[01:34:09] WARNING: /workspace/src/objective/regression_obj.cu:152: reg:linear is now deprecated in favor of reg:squarederror.\n"
          ]
        },
        {
          "output_type": "execute_result",
          "data": {
            "text/plain": [
              "XGBRegressor()"
            ]
          },
          "metadata": {},
          "execution_count": 69
        }
      ]
    },
    {
      "cell_type": "code",
      "source": [
        "xgbr.feature_importances_"
      ],
      "metadata": {
        "colab": {
          "base_uri": "https://localhost:8080/"
        },
        "id": "_U25mBHLawfB",
        "outputId": "17688b4b-1b66-42d3-a081-4517735f3278"
      },
      "execution_count": 70,
      "outputs": [
        {
          "output_type": "execute_result",
          "data": {
            "text/plain": [
              "array([0.03683342, 0.0444022 , 0.00595773, 0.00207107, 0.        ,\n",
              "       0.88453066, 0.        , 0.00586103, 0.00993049, 0.00186004,\n",
              "       0.00855333], dtype=float32)"
            ]
          },
          "metadata": {},
          "execution_count": 70
        }
      ]
    },
    {
      "cell_type": "code",
      "source": [
        "#xgboost için hiperparametreler\n",
        "plt.barh(x_train.columns, xgbr.feature_importances_)\n"
      ],
      "metadata": {
        "colab": {
          "base_uri": "https://localhost:8080/",
          "height": 282
        },
        "id": "4BB-O98Jaxz0",
        "outputId": "b0730345-ac32-4ba3-d2f4-128085069cf8"
      },
      "execution_count": 71,
      "outputs": [
        {
          "output_type": "execute_result",
          "data": {
            "text/plain": [
              "<BarContainer object of 11 artists>"
            ]
          },
          "metadata": {},
          "execution_count": 71
        },
        {
          "output_type": "display_data",
          "data": {
            "text/plain": [
              "<Figure size 432x288 with 1 Axes>"
            ],
            "image/png": "[encoded data removed]"
          },
          "metadata": {
            "needs_background": "light"
          }
        }
      ]
    },
    {
      "cell_type": "code",
      "source": [
        "xgb_acc = xgbr.score(X_test_norm,y_test_norm)*100\n",
        "print(\"XGBoost Regressor Accuracy - \",xgb_acc)"
      ],
      "metadata": {
        "colab": {
          "base_uri": "https://localhost:8080/"
        },
        "id": "iX0Ukl2yazEs",
        "outputId": "62befa6e-45dd-4f33-96af-40ac64fd2fad"
      },
      "execution_count": 72,
      "outputs": [
        {
          "output_type": "stream",
          "name": "stdout",
          "text": [
            "XGBoost Regressor Accuracy -  85.5701311936406\n"
          ]
        }
      ]
    },
    {
      "cell_type": "code",
      "source": [
        "y_pred_xgb = xgbr.predict(X_test_norm)\n",
        "errors(y_test_norm,y_pred_xgb)\n",
        "r2(y_test_norm,y_pred_xgb)"
      ],
      "metadata": {
        "colab": {
          "base_uri": "https://localhost:8080/"
        },
        "id": "4zIIQBdea-v_",
        "outputId": "2c7009c7-90bf-4f8d-d84f-1b8aab179d05"
      },
      "execution_count": 73,
      "outputs": [
        {
          "output_type": "stream",
          "name": "stdout",
          "text": [
            "mae: 0.040523066530217075 \n",
            "mse: 0.004933923782773019 \n",
            "rmse: 0.07024189478347675\n"
          ]
        },
        {
          "output_type": "execute_result",
          "data": {
            "text/plain": [
              "0.8557013119364061"
            ]
          },
          "metadata": {},
          "execution_count": 73
        }
      ]
    },
    {
      "cell_type": "markdown",
      "source": [
        "**K NEIGHBOURS**"
      ],
      "metadata": {
        "id": "b0OaV_wRbMfY"
      }
    },
    {
      "cell_type": "code",
      "source": [
        "from sklearn.neighbors import KNeighborsRegressor\n",
        "knn = KNeighborsRegressor(n_neighbors = 1,weights = 'uniform')\n",
        "knn.fit(X_train_norm,y_train_norm)"
      ],
      "metadata": {
        "colab": {
          "base_uri": "https://localhost:8080/"
        },
        "id": "ofbWGLBbbEbO",
        "outputId": "dac53ecf-8215-4e0d-a8da-abcf7ac1c768"
      },
      "execution_count": 74,
      "outputs": [
        {
          "output_type": "execute_result",
          "data": {
            "text/plain": [
              "KNeighborsRegressor(n_neighbors=1)"
            ]
          },
          "metadata": {},
          "execution_count": 74
        }
      ]
    },
    {
      "cell_type": "code",
      "source": [
        "knn_acc = knn.score(X_test_norm, y_test_norm)*100\n",
        "print(\"KNeigbhbors Regressor Accuracy - \",knn_acc)"
      ],
      "metadata": {
        "colab": {
          "base_uri": "https://localhost:8080/"
        },
        "id": "9fvRhBm_YaJT",
        "outputId": "ab3ca0f2-da4d-411a-8174-bf95db21372f"
      },
      "execution_count": 75,
      "outputs": [
        {
          "output_type": "stream",
          "name": "stdout",
          "text": [
            "KNeigbhbors Regressor Accuracy -  65.86364205213796\n"
          ]
        }
      ]
    },
    {
      "cell_type": "code",
      "source": [
        "y_pred_knn = knn.predict(X_test_norm)"
      ],
      "metadata": {
        "id": "ofWgeGcnYopY"
      },
      "execution_count": 76,
      "outputs": []
    },
    {
      "cell_type": "code",
      "source": [
        "errors(y_test_norm,y_pred_knn)\n",
        "r2(y_test_norm,y_pred_knn)"
      ],
      "metadata": {
        "colab": {
          "base_uri": "https://localhost:8080/"
        },
        "id": "NypZeaRSYrA6",
        "outputId": "b1d6df73-0d1e-42d4-d927-9cddaf3288cb"
      },
      "execution_count": 77,
      "outputs": [
        {
          "output_type": "stream",
          "name": "stdout",
          "text": [
            "mae: 0.05693135470987772 \n",
            "mse: 0.011672052642778161 \n",
            "rmse: 0.1080372743213108\n"
          ]
        },
        {
          "output_type": "execute_result",
          "data": {
            "text/plain": [
              "0.6586364205213796"
            ]
          },
          "metadata": {},
          "execution_count": 77
        }
      ]
    },
    {
      "cell_type": "code",
      "source": [],
      "metadata": {
        "id": "3JtGx1HZY7WG"
      },
      "execution_count": null,
      "outputs": []
    },
    {
      "cell_type": "code",
      "source": [
        "acc = {'model':['random forest','k - neighbours','xgboost'],'Doğruluk yüzdesi':[rf_acc,knn_acc,xgb_acc]}\n"
      ],
      "metadata": {
        "id": "TyXI0A7iY5em"
      },
      "execution_count": 79,
      "outputs": []
    },
    {
      "cell_type": "code",
      "source": [
        "acc_df = pd.DataFrame(acc)\n",
        "acc_df"
      ],
      "metadata": {
        "colab": {
          "base_uri": "https://localhost:8080/",
          "height": 143
        },
        "id": "4pXBRN1WY9-n",
        "outputId": "c8d7d1dc-65a2-430f-fd00-d1b68b551bb2"
      },
      "execution_count": 80,
      "outputs": [
        {
          "output_type": "execute_result",
          "data": {
            "text/plain": [
              "            model  Doğruluk yüzdesi\n",
              "0   random forest         84.060682\n",
              "1  k - neighbours         65.863642\n",
              "2         xgboost         85.570131"
            ],
            "text/html": [
              "\n",
              "  <div id=\"df-792da61a-1ff8-4b07-89f5-9db221146e41\">\n",
              "    <div class=\"colab-df-container\">\n",
              "      <div>\n",
              "<style scoped>\n",
              "    .dataframe tbody tr th:only-of-type {\n",
              "        vertical-align: middle;\n",
              "    }\n",
              "\n",
              "    .dataframe tbody tr th {\n",
              "        vertical-align: top;\n",
              "    }\n",
              "\n",
              "    .dataframe thead th {\n",
              "        text-align: right;\n",
              "    }\n",
              "</style>\n",
              "<table border=\"1\" class=\"dataframe\">\n",
              "  <thead>\n",
              "    <tr style=\"text-align: right;\">\n",
              "      <th></th>\n",
              "      <th>model</th>\n",
              "      <th>Doğruluk yüzdesi</th>\n",
              "    </tr>\n",
              "  </thead>\n",
              "  <tbody>\n",
              "    <tr>\n",
              "      <th>0</th>\n",
              "      <td>random forest</td>\n",
              "      <td>84.060682</td>\n",
              "    </tr>\n",
              "    <tr>\n",
              "      <th>1</th>\n",
              "      <td>k - neighbours</td>\n",
              "      <td>65.863642</td>\n",
              "    </tr>\n",
              "    <tr>\n",
              "      <th>2</th>\n",
              "      <td>xgboost</td>\n",
              "      <td>85.570131</td>\n",
              "    </tr>\n",
              "  </tbody>\n",
              "</table>\n",
              "</div>\n",
              "      <button class=\"colab-df-convert\" onclick=\"convertToInteractive('df-792da61a-1ff8-4b07-89f5-9db221146e41')\"\n",
              "              title=\"Convert this dataframe to an interactive table.\"\n",
              "              style=\"display:none;\">\n",
              "        \n",
              "  <svg xmlns=\"http://www.w3.org/2000/svg\" height=\"24px\"viewBox=\"0 0 24 24\"\n",
              "       width=\"24px\">\n",
              "    <path d=\"M0 0h24v24H0V0z\" fill=\"none\"/>\n",
              "    <path d=\"M18.56 5.44l.94 2.06.94-2.06 2.06-.94-2.06-.94-.94-2.06-.94 2.06-2.06.94zm-11 1L8.5 8.5l.94-2.06 2.06-.94-2.06-.94L8.5 2.5l-.94 2.06-2.06.94zm10 10l.94 2.06.94-2.06 2.06-.94-2.06-.94-.94-2.06-.94 2.06-2.06.94z\"/><path d=\"M17.41 7.96l-1.37-1.37c-.4-.4-.92-.59-1.43-.59-.52 0-1.04.2-1.43.59L10.3 9.45l-7.72 7.72c-.78.78-.78 2.05 0 2.83L4 21.41c.39.39.9.59 1.41.59.51 0 1.02-.2 1.41-.59l7.78-7.78 2.81-2.81c.8-.78.8-2.07 0-2.86zM5.41 20L4 18.59l7.72-7.72 1.47 1.35L5.41 20z\"/>\n",
              "  </svg>\n",
              "      </button>\n",
              "      \n",
              "  <style>\n",
              "    .colab-df-container {\n",
              "      display:flex;\n",
              "      flex-wrap:wrap;\n",
              "      gap: 12px;\n",
              "    }\n",
              "\n",
              "    .colab-df-convert {\n",
              "      background-color: #E8F0FE;\n",
              "      border: none;\n",
              "      border-radius: 50%;\n",
              "      cursor: pointer;\n",
              "      display: none;\n",
              "      fill: #1967D2;\n",
              "      height: 32px;\n",
              "      padding: 0 0 0 0;\n",
              "      width: 32px;\n",
              "    }\n",
              "\n",
              "    .colab-df-convert:hover {\n",
              "      background-color: #E2EBFA;\n",
              "      box-shadow: 0px 1px 2px rgba(60, 64, 67, 0.3), 0px 1px 3px 1px rgba(60, 64, 67, 0.15);\n",
              "      fill: #174EA6;\n",
              "    }\n",
              "\n",
              "    [theme=dark] .colab-df-convert {\n",
              "      background-color: #3B4455;\n",
              "      fill: #D2E3FC;\n",
              "    }\n",
              "\n",
              "    [theme=dark] .colab-df-convert:hover {\n",
              "      background-color: #434B5C;\n",
              "      box-shadow: 0px 1px 3px 1px rgba(0, 0, 0, 0.15);\n",
              "      filter: drop-shadow(0px 1px 2px rgba(0, 0, 0, 0.3));\n",
              "      fill: #FFFFFF;\n",
              "    }\n",
              "  </style>\n",
              "\n",
              "      <script>\n",
              "        const buttonEl =\n",
              "          document.querySelector('#df-792da61a-1ff8-4b07-89f5-9db221146e41 button.colab-df-convert');\n",
              "        buttonEl.style.display =\n",
              "          google.colab.kernel.accessAllowed ? 'block' : 'none';\n",
              "\n",
              "        async function convertToInteractive(key) {\n",
              "          const element = document.querySelector('#df-792da61a-1ff8-4b07-89f5-9db221146e41');\n",
              "          const dataTable =\n",
              "            await google.colab.kernel.invokeFunction('convertToInteractive',\n",
              "                                                     [key], {});\n",
              "          if (!dataTable) return;\n",
              "\n",
              "          const docLinkHtml = 'Like what you see? Visit the ' +\n",
              "            '<a target=\"_blank\" href=https://colab.research.google.com/notebooks/data_table.ipynb>data table notebook</a>'\n",
              "            + ' to learn more about interactive tables.';\n",
              "          element.innerHTML = '';\n",
              "          dataTable['output_type'] = 'display_data';\n",
              "          await google.colab.output.renderOutput(dataTable, element);\n",
              "          const docLink = document.createElement('div');\n",
              "          docLink.innerHTML = docLinkHtml;\n",
              "          element.appendChild(docLink);\n",
              "        }\n",
              "      </script>\n",
              "    </div>\n",
              "  </div>\n",
              "  "
            ]
          },
          "metadata": {},
          "execution_count": 80
        }
      ]
    },
    {
      "cell_type": "code",
      "source": [
        "plt.figure(figsize=(10,8))\n",
        "sns.barplot(x='model',y='Doğruluk yüzdesi',data=acc_df)\n",
        "plt.show()"
      ],
      "metadata": {
        "colab": {
          "base_uri": "https://localhost:8080/",
          "height": 502
        },
        "id": "JLo2hLTBY_S3",
        "outputId": "0f7f6010-ca60-4b0a-c611-df58db3e97fd"
      },
      "execution_count": 81,
      "outputs": [
        {
          "output_type": "display_data",
          "data": {
            "text/plain": [
              "<Figure size 720x576 with 1 Axes>"
            ],
            "image/png": "[encoded data removed]"
          },
          "metadata": {}
        }
      ]
    },
    {
      "cell_type": "code",
      "source": [],
      "metadata": {
        "id": "IuOHMfw-ZA19"
      },
      "execution_count": null,
      "outputs": []
    }
  ]
}